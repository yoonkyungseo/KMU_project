{
 "cells": [
  {
   "cell_type": "code",
   "execution_count": 1,
   "metadata": {},
   "outputs": [],
   "source": [
    "import lightgbm as lgb\n",
    "import numpy as np\n",
    "import pandas as pd\n",
    "from pprint import pprint\n",
    "from sklearn.metrics import log_loss\n",
    "from sklearn.model_selection import StratifiedKFold\n",
    "import seaborn as sns\n",
    "from tensorflow import keras\n",
    "import tensorflow as tf\n",
    "import warnings\n",
    "from tqdm import tqdm, tqdm_notebook\n",
    "from sklearn.model_selection import cross_val_score\n",
    "\n",
    "from sklearn.feature_selection import RFE\n",
    "from sklearn.feature_selection import SelectPercentile\n",
    "import matplotlib.pyplot as plt\n",
    "import matplotlib.font_manager as fm\n",
    "plt.rc('font', family=fm.FontProperties(fname=\"c:/Windows/Fonts/malgun.ttf\").get_name()) # for Windows OS user\n",
    "import datetime\n",
    "import os"
   ]
  },
  {
   "cell_type": "code",
   "execution_count": 2,
   "metadata": {},
   "outputs": [],
   "source": [
    "from sklearn.model_selection import train_test_split\n",
    "from sklearn.metrics import mean_squared_error\n",
    "from xgboost import XGBRegressor\n",
    "from lightgbm import LGBMRegressor\n",
    "from sklearn.ensemble import GradientBoostingRegressor\n",
    "from catboost import CatBoostRegressor\n",
    "from sklearn.linear_model import Ridge\n",
    "from sklearn.linear_model import BayesianRidge\n",
    "from tensorflow import keras\n",
    "from scipy.stats.mstats import gmean\n",
    "from sklearn.ensemble import RandomForestRegressor\n",
    "from sklearn.model_selection import RandomizedSearchCV\n",
    "import sys, warnings\n",
    "if not sys.warnoptions: warnings.simplefilter(\"ignore\")\n",
    "    "
   ]
  },
  {
   "cell_type": "code",
   "execution_count": 206,
   "metadata": {},
   "outputs": [],
   "source": [
    "trn = pd.read_csv(os.path.abspath(\"../input\")+'/X_train.csv', encoding='cp949')\n",
    "tst = pd.read_csv(os.path.abspath(\"../input\")+'/X_test.csv', encoding='cp949')\n",
    "y = pd.read_csv(os.path.abspath(\"../input\")+'/y_train.csv', encoding='cp949')\n",
    "IDtest = tst.custid.unique()\n",
    "data = pd.concat([trn, tst], axis=0)"
   ]
  },
  {
   "cell_type": "code",
   "execution_count": 207,
   "metadata": {},
   "outputs": [
    {
     "name": "stdout",
     "output_type": "stream",
     "text": [
      "<class 'pandas.core.frame.DataFrame'>\n",
      "Int64Index: 1040039 entries, 0 to 414954\n",
      "Data columns (total 19 columns):\n",
      " #   Column           Non-Null Count    Dtype \n",
      "---  ------           --------------    ----- \n",
      " 0   custid           1040039 non-null  int64 \n",
      " 1   sales_month      1040039 non-null  int64 \n",
      " 2   sales_day        1040039 non-null  int64 \n",
      " 3   sales_dayofweek  1040039 non-null  object\n",
      " 4   sales_time       1040039 non-null  int64 \n",
      " 5   str_nm           1040039 non-null  object\n",
      " 6   goodcd           1040039 non-null  int64 \n",
      " 7   brd_nm           1040039 non-null  object\n",
      " 8   corner_nm        1040039 non-null  object\n",
      " 9   pc_nm            1040039 non-null  object\n",
      " 10  part_nm          1040039 non-null  object\n",
      " 11  team_nm          1040039 non-null  object\n",
      " 12  buyer_nm         1040039 non-null  object\n",
      " 13  import_flg       1040039 non-null  int64 \n",
      " 14  tot_amt          1040039 non-null  int64 \n",
      " 15  dis_amt          1040039 non-null  int64 \n",
      " 16  net_amt          1040039 non-null  int64 \n",
      " 17  inst_mon         1040039 non-null  int64 \n",
      " 18  inst_fee         1040039 non-null  int64 \n",
      "dtypes: int64(11), object(8)\n",
      "memory usage: 158.7+ MB\n"
     ]
    }
   ],
   "source": [
    "data.info()"
   ]
  },
  {
   "cell_type": "markdown",
   "metadata": {},
   "source": [
    "날짜 데이터"
   ]
  },
  {
   "cell_type": "code",
   "execution_count": 208,
   "metadata": {},
   "outputs": [],
   "source": [
    "data['sales_year']=data['sales_month'].apply(lambda x: 2018 if x >12 else 2017)"
   ]
  },
  {
   "cell_type": "code",
   "execution_count": 209,
   "metadata": {},
   "outputs": [],
   "source": [
    "# 월 정리\n",
    "data['sales_month']=data['sales_month'].apply(lambda x: x-12 if x >12 else x)"
   ]
  },
  {
   "cell_type": "code",
   "execution_count": 210,
   "metadata": {},
   "outputs": [],
   "source": [
    "# 주말\n",
    "data['weekend'] = data['sales_dayofweek'].apply(lambda x: 1 if (x=='토' or x=='일') else 0)"
   ]
  },
  {
   "cell_type": "code",
   "execution_count": 211,
   "metadata": {},
   "outputs": [],
   "source": [
    "data['sales_year']=data['sales_year'].astype('str')\n",
    "data['sales_month']=data['sales_month'].astype('str')\n",
    "data['sales_day']=data['sales_day'].astype('str')"
   ]
  },
  {
   "cell_type": "code",
   "execution_count": 212,
   "metadata": {},
   "outputs": [],
   "source": [
    "data['date_time']=data['sales_year']+'-'+data['sales_month']+'-'+data['sales_day']"
   ]
  },
  {
   "cell_type": "code",
   "execution_count": 213,
   "metadata": {},
   "outputs": [],
   "source": [
    "data['sales_year']=data['sales_year'].astype('int')\n",
    "data['sales_month']=data['sales_month'].astype('int')\n",
    "data['sales_day']=data['sales_day'].astype('int')"
   ]
  },
  {
   "cell_type": "code",
   "execution_count": 214,
   "metadata": {},
   "outputs": [],
   "source": [
    "data['date_time'] = pd.to_datetime(data['date_time'])"
   ]
  },
  {
   "cell_type": "code",
   "execution_count": 215,
   "metadata": {},
   "outputs": [],
   "source": [
    "a=data.groupby(['custid'])['date_time'].diff()"
   ]
  },
  {
   "cell_type": "code",
   "execution_count": 216,
   "metadata": {},
   "outputs": [],
   "source": [
    "a=a.reset_index().set_index(data.custid)"
   ]
  },
  {
   "cell_type": "code",
   "execution_count": 217,
   "metadata": {},
   "outputs": [],
   "source": [
    "a=a.reset_index()"
   ]
  },
  {
   "cell_type": "code",
   "execution_count": 218,
   "metadata": {},
   "outputs": [],
   "source": [
    "a.set_index('index',inplace=True)"
   ]
  },
  {
   "cell_type": "code",
   "execution_count": 219,
   "metadata": {},
   "outputs": [],
   "source": [
    "data['date_time_diff']=a.date_time"
   ]
  },
  {
   "cell_type": "code",
   "execution_count": 220,
   "metadata": {},
   "outputs": [],
   "source": [
    "dtdt=data.groupby(['custid','date_time'])['date_time_diff'].sum().reset_index()"
   ]
  },
  {
   "cell_type": "code",
   "execution_count": 221,
   "metadata": {},
   "outputs": [],
   "source": [
    "dtdt.date_time_diff=dtdt.date_time_diff.astype('str')"
   ]
  },
  {
   "cell_type": "code",
   "execution_count": 222,
   "metadata": {},
   "outputs": [],
   "source": [
    "dtdt.date_time_diff=dtdt.date_time_diff.apply(lambda x: x.split(' ')[0])"
   ]
  },
  {
   "cell_type": "code",
   "execution_count": 223,
   "metadata": {},
   "outputs": [],
   "source": [
    "dtdt.date_time_diff=dtdt.date_time_diff.astype('int')"
   ]
  },
  {
   "cell_type": "code",
   "execution_count": 224,
   "metadata": {},
   "outputs": [],
   "source": [
    "dtdt_mean=dtdt.groupby('custid')['date_time_diff'].mean().reset_index()"
   ]
  },
  {
   "cell_type": "markdown",
   "metadata": {},
   "source": [
    "# 쇼핑시간"
   ]
  },
  {
   "cell_type": "code",
   "execution_count": 225,
   "metadata": {},
   "outputs": [
    {
     "data": {
      "text/html": [
       "<div>\n",
       "<style scoped>\n",
       "    .dataframe tbody tr th:only-of-type {\n",
       "        vertical-align: middle;\n",
       "    }\n",
       "\n",
       "    .dataframe tbody tr th {\n",
       "        vertical-align: top;\n",
       "    }\n",
       "\n",
       "    .dataframe thead th {\n",
       "        text-align: right;\n",
       "    }\n",
       "</style>\n",
       "<table border=\"1\" class=\"dataframe\">\n",
       "  <thead>\n",
       "    <tr style=\"text-align: right;\">\n",
       "      <th></th>\n",
       "      <th>custid</th>\n",
       "      <th>date_time_diff</th>\n",
       "    </tr>\n",
       "  </thead>\n",
       "  <tbody>\n",
       "    <tr>\n",
       "      <th>0</th>\n",
       "      <td>0</td>\n",
       "      <td>41.142857</td>\n",
       "    </tr>\n",
       "    <tr>\n",
       "      <th>1</th>\n",
       "      <td>2</td>\n",
       "      <td>18.428571</td>\n",
       "    </tr>\n",
       "    <tr>\n",
       "      <th>2</th>\n",
       "      <td>3</td>\n",
       "      <td>25.461538</td>\n",
       "    </tr>\n",
       "    <tr>\n",
       "      <th>3</th>\n",
       "      <td>4</td>\n",
       "      <td>1.500000</td>\n",
       "    </tr>\n",
       "    <tr>\n",
       "      <th>4</th>\n",
       "      <td>5</td>\n",
       "      <td>15.333333</td>\n",
       "    </tr>\n",
       "    <tr>\n",
       "      <th>...</th>\n",
       "      <td>...</td>\n",
       "      <td>...</td>\n",
       "    </tr>\n",
       "    <tr>\n",
       "      <th>35962</th>\n",
       "      <td>49988</td>\n",
       "      <td>28.000000</td>\n",
       "    </tr>\n",
       "    <tr>\n",
       "      <th>35963</th>\n",
       "      <td>49990</td>\n",
       "      <td>0.000000</td>\n",
       "    </tr>\n",
       "    <tr>\n",
       "      <th>35964</th>\n",
       "      <td>49992</td>\n",
       "      <td>142.000000</td>\n",
       "    </tr>\n",
       "    <tr>\n",
       "      <th>35965</th>\n",
       "      <td>49993</td>\n",
       "      <td>0.000000</td>\n",
       "    </tr>\n",
       "    <tr>\n",
       "      <th>35966</th>\n",
       "      <td>49994</td>\n",
       "      <td>0.500000</td>\n",
       "    </tr>\n",
       "  </tbody>\n",
       "</table>\n",
       "<p>35967 rows × 2 columns</p>\n",
       "</div>"
      ],
      "text/plain": [
       "       custid  date_time_diff\n",
       "0           0       41.142857\n",
       "1           2       18.428571\n",
       "2           3       25.461538\n",
       "3           4        1.500000\n",
       "4           5       15.333333\n",
       "...       ...             ...\n",
       "35962   49988       28.000000\n",
       "35963   49990        0.000000\n",
       "35964   49992      142.000000\n",
       "35965   49993        0.000000\n",
       "35966   49994        0.500000\n",
       "\n",
       "[35967 rows x 2 columns]"
      ]
     },
     "execution_count": 225,
     "metadata": {},
     "output_type": "execute_result"
    }
   ],
   "source": [
    "dtdt_mean"
   ]
  },
  {
   "cell_type": "code",
   "execution_count": 226,
   "metadata": {},
   "outputs": [],
   "source": [
    "ab=data.groupby(['custid','sales_day','sales_month'])['sales_time'].agg([('sales_time_min', 'min')]).reset_index()"
   ]
  },
  {
   "cell_type": "code",
   "execution_count": 227,
   "metadata": {},
   "outputs": [],
   "source": [
    "abc=data.groupby(['custid','sales_day','sales_month'])['sales_time'].agg([('sales_time_max', 'max')]).reset_index()"
   ]
  },
  {
   "cell_type": "code",
   "execution_count": 228,
   "metadata": {},
   "outputs": [],
   "source": [
    "ab['time_min']=ab['sales_time_min'].apply(lambda x: int(str(x)[:2]) if len(str(x)) == 4 else int(str(x)[:1]))\n",
    "ab['minute_min']=ab['sales_time_min'].apply(lambda x: int(str(x)[2:]) if len(str(x)) == 4 else int(str(x)[1:]))"
   ]
  },
  {
   "cell_type": "code",
   "execution_count": 229,
   "metadata": {},
   "outputs": [],
   "source": [
    "ab['time_max']=abc['sales_time_max'].apply(lambda x: int(str(x)[:2]) if len(str(x)) == 4 else int(str(x)[:1]))\n",
    "ab['minute_max']=abc['sales_time_max'].apply(lambda x: int(str(x)[2:]) if len(str(x)) == 4 else int(str(x)[1:]))"
   ]
  },
  {
   "cell_type": "code",
   "execution_count": 230,
   "metadata": {},
   "outputs": [],
   "source": [
    "ab['shop_time']=(ab['time_max']-ab['time_min'])*60+(ab['minute_max']-ab['minute_min'])"
   ]
  },
  {
   "cell_type": "code",
   "execution_count": 231,
   "metadata": {},
   "outputs": [],
   "source": [
    "shop_time=ab.groupby('custid')['shop_time'].mean().reset_index()"
   ]
  },
  {
   "cell_type": "code",
   "execution_count": null,
   "metadata": {},
   "outputs": [],
   "source": []
  },
  {
   "cell_type": "code",
   "execution_count": null,
   "metadata": {},
   "outputs": [],
   "source": []
  },
  {
   "cell_type": "code",
   "execution_count": 232,
   "metadata": {},
   "outputs": [],
   "source": [
    "# sales time - 아침/ 낮/ 밤 구매 나누기\n",
    "data['sales_time'] = data['sales_time'].apply(lambda x: int(str(x)[:2]) if len(str(x)) == 4 else int(str(x)[:1]))\n",
    "data['sales_time_cat'] = data['sales_time'].apply(lambda x: 'mo_sales' if (9 <= x <= 12) else ('af_sales' if (13 <= x <= 18) else 'knt_sales'))"
   ]
  },
  {
   "cell_type": "code",
   "execution_count": 233,
   "metadata": {},
   "outputs": [],
   "source": [
    "# dis_amt - 할인율 특성 추가\n",
    "data['dis_rate'] = data['dis_amt']/data['tot_amt']"
   ]
  },
  {
   "cell_type": "code",
   "execution_count": 234,
   "metadata": {},
   "outputs": [],
   "source": [
    "# 퇴근전/후 구매 빈도, 비율\n",
    "def get_off_work(x):\n",
    "    if 9<=x<=17:\n",
    "        return('bf_work')\n",
    "    else:\n",
    "        return('af_work')"
   ]
  },
  {
   "cell_type": "code",
   "execution_count": 235,
   "metadata": {},
   "outputs": [],
   "source": [
    "data['sales_type'] = data['sales_time'].map(get_off_work)"
   ]
  },
  {
   "cell_type": "markdown",
   "metadata": {},
   "source": [
    "시간별 구매 횟수"
   ]
  },
  {
   "cell_type": "code",
   "execution_count": 236,
   "metadata": {},
   "outputs": [],
   "source": [
    "freq_per_time = pd.pivot_table(index='custid',columns='sales_time',values='tot_amt',aggfunc=np.size, fill_value=0, data=data.query(\"tot_amt>0\")[['custid','sales_time','tot_amt']]).reset_index()"
   ]
  },
  {
   "cell_type": "code",
   "execution_count": 237,
   "metadata": {},
   "outputs": [],
   "source": [
    "sales_type = pd.pivot_table(index='custid',columns='sales_type',values='tot_amt',aggfunc=np.size, fill_value=0,data = data.query('tot_amt>0')[['custid','sales_type','tot_amt']]).reset_index()"
   ]
  },
  {
   "cell_type": "code",
   "execution_count": 238,
   "metadata": {},
   "outputs": [],
   "source": [
    "freq_per_time.columns=['custid', '1_stf', '9_stf', \"10_stf\", '11_stf', '12_stf', '13_stf', '14_stf', '15_stf', '16_stf', '17_stf', '18_stf', '19_stf', '20_stf', '21_stf', '22_stf']"
   ]
  },
  {
   "cell_type": "code",
   "execution_count": 239,
   "metadata": {},
   "outputs": [],
   "source": [
    "features = pd.merge(freq_per_time, sales_type, on = 'custid')"
   ]
  },
  {
   "cell_type": "code",
   "execution_count": 240,
   "metadata": {},
   "outputs": [],
   "source": [
    "features = pd.merge(features, shop_time, on = 'custid')"
   ]
  },
  {
   "cell_type": "code",
   "execution_count": 241,
   "metadata": {},
   "outputs": [],
   "source": [
    "features = pd.merge(features, dtdt_mean, on = 'custid')"
   ]
  },
  {
   "cell_type": "code",
   "execution_count": 242,
   "metadata": {},
   "outputs": [],
   "source": [
    "def floor_transfer_a(x) :\n",
    "    return  {\n",
    "        \"무역점\" : 0,\n",
    "        \"본점\" : 1,\n",
    "        \"신촌점\" : 0,\n",
    "        \"천호점\" : 1\n",
    "    }.get(x)\n",
    "\n",
    "def floor_transfer_m(x) :  \n",
    "    return  {\n",
    "        \"무역점\" : 1/10*13,\n",
    "        \"본점\" : 1/6*13,\n",
    "        \"신촌점\" : 1/11*13,\n",
    "        \"천호점\" : 1\n",
    "    }.get(x)\n",
    "data['floor'] = (data.str_nm.apply(floor_transfer_a))*data.str_nm.apply(floor_transfer_m).astype(int)"
   ]
  },
  {
   "cell_type": "code",
   "execution_count": 243,
   "metadata": {},
   "outputs": [],
   "source": [
    "features = pd.merge(features, data.groupby('custid')['floor'].mean().reset_index(), on = 'custid')"
   ]
  },
  {
   "cell_type": "code",
   "execution_count": null,
   "metadata": {},
   "outputs": [],
   "source": []
  },
  {
   "cell_type": "code",
   "execution_count": 244,
   "metadata": {},
   "outputs": [],
   "source": [
    "features['af_work_rate'] = features['af_work']/(features['af_work'] + features['bf_work'])\n",
    "features['bf_work_rate'] = features['bf_work']/(features['af_work'] + features['bf_work'])"
   ]
  },
  {
   "cell_type": "code",
   "execution_count": 245,
   "metadata": {},
   "outputs": [],
   "source": [
    "# 아침구매/ 낮구매/ 밤구매\n",
    "freq_sales_cat = pd.pivot_table(index='custid',columns='sales_time_cat',values='tot_amt',aggfunc=np.size, fill_value=0, data=data.query(\"tot_amt>0\")[['custid','sales_time_cat','tot_amt']]).reset_index()\n",
    "features = pd.merge(features, freq_sales_cat,on='custid')"
   ]
  },
  {
   "cell_type": "code",
   "execution_count": null,
   "metadata": {},
   "outputs": [],
   "source": []
  },
  {
   "cell_type": "code",
   "execution_count": 246,
   "metadata": {},
   "outputs": [],
   "source": [
    "refund_freq=data.query('tot_amt<0').groupby('custid')['sales_day'].count().reset_index()\n",
    "features = pd.merge(features, refund_freq, left_on = 'custid',right_on='custid',how='left')\n",
    "features.rename(columns = {'sales_day': 'refund_freq'},inplace=True)\n",
    "features.fillna(0,inplace=True)"
   ]
  },
  {
   "cell_type": "code",
   "execution_count": 247,
   "metadata": {},
   "outputs": [],
   "source": [
    "sales_freq=data.query('tot_amt>0').groupby('custid')['sales_day'].count().reset_index()\n",
    "features = pd.merge(features, sales_freq, left_on = 'custid',right_on='custid',how='left')\n",
    "features.rename(columns = {'sales_day': 'sales_freq'},inplace=True)"
   ]
  },
  {
   "cell_type": "code",
   "execution_count": 248,
   "metadata": {},
   "outputs": [],
   "source": [
    "# 구매 빈도 특성 추가\n",
    "all_freq=data.groupby('custid')['sales_day'].count().reset_index()\n",
    "features = pd.merge(features, all_freq,  left_on = 'custid',right_on='custid',how='left')\n",
    "features.rename(columns = {'sales_day': 'all_freq'},inplace=True)"
   ]
  },
  {
   "cell_type": "code",
   "execution_count": 249,
   "metadata": {},
   "outputs": [],
   "source": [
    "features['refund_sales_rate']=features['refund_freq']/features['sales_freq']\n",
    "features['refund_all_rate'] = features['refund_freq']/features['all_freq']"
   ]
  },
  {
   "cell_type": "code",
   "execution_count": null,
   "metadata": {},
   "outputs": [],
   "source": []
  },
  {
   "cell_type": "code",
   "execution_count": null,
   "metadata": {},
   "outputs": [],
   "source": []
  },
  {
   "cell_type": "markdown",
   "metadata": {},
   "source": [
    "방문한 날짜의 갯수"
   ]
  },
  {
   "cell_type": "code",
   "execution_count": 250,
   "metadata": {},
   "outputs": [],
   "source": [
    "data_aaa=data.groupby(['custid','sales_month','sales_day'])['sales_dayofweek'].count().reset_index()"
   ]
  },
  {
   "cell_type": "code",
   "execution_count": 251,
   "metadata": {},
   "outputs": [],
   "source": [
    "data_aaa.sales_dayofweek=1"
   ]
  },
  {
   "cell_type": "code",
   "execution_count": 252,
   "metadata": {},
   "outputs": [],
   "source": [
    "data_aaa=data_aaa.groupby('custid')['sales_dayofweek'].sum().reset_index()"
   ]
  },
  {
   "cell_type": "code",
   "execution_count": 253,
   "metadata": {},
   "outputs": [],
   "source": [
    "features = pd.merge(features, data_aaa, on = 'custid')"
   ]
  },
  {
   "cell_type": "code",
   "execution_count": 254,
   "metadata": {},
   "outputs": [],
   "source": [
    "features['sales_freq_mean']=features['sales_freq']/features['sales_dayofweek']"
   ]
  },
  {
   "cell_type": "markdown",
   "metadata": {},
   "source": [
    "평일에 방문하는 평균 시간"
   ]
  },
  {
   "cell_type": "code",
   "execution_count": 255,
   "metadata": {},
   "outputs": [],
   "source": [
    "vuddlf=data[data.weekend==0].groupby('custid')['sales_time'].mean().reset_index()"
   ]
  },
  {
   "cell_type": "code",
   "execution_count": 256,
   "metadata": {},
   "outputs": [],
   "source": [
    "features = pd.merge(features, vuddlf, how='left',on = 'custid')"
   ]
  },
  {
   "cell_type": "code",
   "execution_count": 257,
   "metadata": {},
   "outputs": [],
   "source": [
    "wkdtjdgus=data[data.weekend==0].groupby('custid')['sales_time'].agg([('sales_time_mod', lambda x: x.value_counts().index[0])]).reset_index()"
   ]
  },
  {
   "cell_type": "code",
   "execution_count": 258,
   "metadata": {},
   "outputs": [],
   "source": [
    "features = pd.merge(features, wkdtjdgus, how='left',on = 'custid')"
   ]
  },
  {
   "cell_type": "code",
   "execution_count": null,
   "metadata": {},
   "outputs": [],
   "source": []
  },
  {
   "cell_type": "markdown",
   "metadata": {},
   "source": [
    "주말에 방문하는 평균 시간"
   ]
  },
  {
   "cell_type": "code",
   "execution_count": 259,
   "metadata": {},
   "outputs": [],
   "source": [
    "wnakf=data[data.weekend==1].groupby('custid')['sales_time'].mean().reset_index()"
   ]
  },
  {
   "cell_type": "code",
   "execution_count": 260,
   "metadata": {},
   "outputs": [],
   "source": [
    "features = pd.merge(features, wnakf, how='left',on = 'custid')"
   ]
  },
  {
   "cell_type": "code",
   "execution_count": 261,
   "metadata": {},
   "outputs": [],
   "source": [
    "wkdtjdgus=data[data.weekend==1].groupby('custid')['sales_time'].agg([('sales_time_mod', lambda x: x.value_counts().index[0])]).reset_index()"
   ]
  },
  {
   "cell_type": "code",
   "execution_count": 262,
   "metadata": {},
   "outputs": [],
   "source": [
    "features = pd.merge(features, wkdtjdgus, how='left',on = 'custid')"
   ]
  },
  {
   "cell_type": "code",
   "execution_count": null,
   "metadata": {},
   "outputs": [],
   "source": []
  },
  {
   "cell_type": "code",
   "execution_count": 263,
   "metadata": {},
   "outputs": [],
   "source": [
    "# 수입상품 관련 열\n",
    "sales_import=data.groupby('custid')['import_flg'].agg('sum').reset_index()\n",
    "features = pd.merge(features, sales_import, on = 'custid')\n",
    "\n",
    "features.rename(columns = {'import_flg': 'sales_import'},inplace=True)"
   ]
  },
  {
   "cell_type": "code",
   "execution_count": 264,
   "metadata": {},
   "outputs": [],
   "source": [
    "# 수입상품 구매 빈도 추가\n",
    "features['import_rate']=features['sales_import']/features['sales_freq']"
   ]
  },
  {
   "cell_type": "code",
   "execution_count": 265,
   "metadata": {},
   "outputs": [],
   "source": [
    "# 수입상품 환불 빈도 추가\n",
    "features['import_refund_rate']=features['sales_import']/(features['refund_freq']+1)"
   ]
  },
  {
   "cell_type": "code",
   "execution_count": null,
   "metadata": {},
   "outputs": [],
   "source": []
  },
  {
   "cell_type": "code",
   "execution_count": null,
   "metadata": {},
   "outputs": [],
   "source": []
  },
  {
   "cell_type": "code",
   "execution_count": null,
   "metadata": {},
   "outputs": [],
   "source": []
  },
  {
   "cell_type": "code",
   "execution_count": 266,
   "metadata": {},
   "outputs": [],
   "source": [
    "# 계절별 구매 빈도 추가\n",
    "def f1(x):\n",
    "    if 3 <= x <= 5 :\n",
    "        return('spring_sales')\n",
    "    elif 6 <= x <= 8 :\n",
    "        return('summer_sales')\n",
    "    elif 9 <= x <= 11 :\n",
    "        return('fall_sales')\n",
    "    else :\n",
    "        return('winter_sales')    "
   ]
  },
  {
   "cell_type": "code",
   "execution_count": 267,
   "metadata": {},
   "outputs": [],
   "source": [
    "data['season_sales']=data['sales_month'].apply(f1)"
   ]
  },
  {
   "cell_type": "code",
   "execution_count": 268,
   "metadata": {},
   "outputs": [],
   "source": [
    "season = pd.pivot_table(data, index='custid', columns='season_sales', values='tot_amt', \n",
    "                   aggfunc=np.size, fill_value=0).reset_index()\n",
    "features = pd.merge(features, season, how='left',on = 'custid')"
   ]
  },
  {
   "cell_type": "code",
   "execution_count": 269,
   "metadata": {},
   "outputs": [],
   "source": [
    "#계절별 구매만 빈도\n",
    "season_sales_freq = pd.pivot_table(index='custid',columns='season_sales',values='tot_amt',aggfunc=np.size, fill_value=0, data=data.query(\"tot_amt>0\")[['custid','season_sales','tot_amt']]).reset_index()\n",
    "features = pd.merge(features, season_sales_freq, how='left',on = 'custid')"
   ]
  },
  {
   "cell_type": "code",
   "execution_count": 270,
   "metadata": {},
   "outputs": [],
   "source": [
    "#계절별 환불만 빈도\n",
    "season_refund_freq = pd.pivot_table(index='custid',columns='season_sales',values='tot_amt',aggfunc=np.size, fill_value=0, data=data.query(\"tot_amt<0\")[['custid','season_sales','tot_amt']]).reset_index()\n",
    "features = pd.merge(features, season_refund_freq, how='left',on = 'custid')\n",
    "features.fillna(0,inplace=True)"
   ]
  },
  {
   "cell_type": "code",
   "execution_count": 271,
   "metadata": {},
   "outputs": [],
   "source": [
    "features['sales_fall_rate']=features.fall_sales_x/(features.fall_sales_x+features.spring_sales_x+features.summer_sales_x+features.winter_sales_x)"
   ]
  },
  {
   "cell_type": "code",
   "execution_count": 272,
   "metadata": {},
   "outputs": [],
   "source": [
    "features['sales_spring_rate']=features.spring_sales_x/(features.fall_sales_x+features.spring_sales_x+features.summer_sales_x+features.winter_sales_x)"
   ]
  },
  {
   "cell_type": "code",
   "execution_count": 273,
   "metadata": {},
   "outputs": [],
   "source": [
    "features['sales_summer_rate']=features.summer_sales_x/(features.fall_sales_x+features.spring_sales_x+features.summer_sales_x+features.winter_sales_x)"
   ]
  },
  {
   "cell_type": "code",
   "execution_count": 274,
   "metadata": {},
   "outputs": [],
   "source": [
    "features['sales_winter_rate']=features.winter_sales_x/(features.fall_sales_x+features.spring_sales_x+features.summer_sales_x+features.winter_sales_x)"
   ]
  },
  {
   "cell_type": "code",
   "execution_count": 275,
   "metadata": {},
   "outputs": [],
   "source": [
    "features['refund_fall_rate']=features.fall_sales_y/(features.fall_sales_y+features.spring_sales_y+features.summer_sales_y+features.winter_sales_y)"
   ]
  },
  {
   "cell_type": "code",
   "execution_count": 276,
   "metadata": {},
   "outputs": [],
   "source": [
    "features['refund_fall_rate']=features.fall_sales_y/(features.fall_sales_y+features.spring_sales_y+features.summer_sales_y+features.winter_sales_y)"
   ]
  },
  {
   "cell_type": "code",
   "execution_count": 277,
   "metadata": {},
   "outputs": [],
   "source": [
    "features['refund_spring_rate']=features.spring_sales_y/(features.fall_sales_y+features.spring_sales_y+features.summer_sales_y+features.winter_sales_y)"
   ]
  },
  {
   "cell_type": "code",
   "execution_count": 278,
   "metadata": {},
   "outputs": [],
   "source": [
    "features['refund_summer_rate']=features.summer_sales_y/(features.fall_sales_y+features.spring_sales_y+features.summer_sales_y+features.winter_sales_y)"
   ]
  },
  {
   "cell_type": "code",
   "execution_count": 279,
   "metadata": {},
   "outputs": [],
   "source": [
    "features['refund_winter_rate']=features.winter_sales_y/(features.fall_sales_y+features.spring_sales_y+features.summer_sales_y+features.winter_sales_y)"
   ]
  },
  {
   "cell_type": "code",
   "execution_count": 280,
   "metadata": {},
   "outputs": [],
   "source": [
    "features['all_fall_rate']=features.fall_sales/(features.fall_sales+features.spring_sales+features.summer_sales+features.winter_sales)"
   ]
  },
  {
   "cell_type": "code",
   "execution_count": 281,
   "metadata": {},
   "outputs": [],
   "source": [
    "features['all_spring_rate']=features.spring_sales/(features.fall_sales+features.spring_sales+features.summer_sales+features.winter_sales)"
   ]
  },
  {
   "cell_type": "code",
   "execution_count": 282,
   "metadata": {},
   "outputs": [],
   "source": [
    "features['all_summer_rate']=features.summer_sales/(features.fall_sales+features.spring_sales+features.summer_sales+features.winter_sales)"
   ]
  },
  {
   "cell_type": "code",
   "execution_count": 283,
   "metadata": {},
   "outputs": [],
   "source": [
    "features['all_winter_rate']=features.winter_sales/(features.fall_sales+features.spring_sales+features.summer_sales+features.winter_sales)"
   ]
  },
  {
   "cell_type": "code",
   "execution_count": 284,
   "metadata": {},
   "outputs": [],
   "source": [
    "# 주말 구매 비율\n",
    "features['wd_sales_rate'] = (data.groupby('custid')['weekend'].sum().reset_index()['weekend']/features['sales_freq'])*100"
   ]
  },
  {
   "cell_type": "markdown",
   "metadata": {},
   "source": [
    "월별 구매액의 합, 평균"
   ]
  },
  {
   "cell_type": "code",
   "execution_count": 285,
   "metadata": {},
   "outputs": [],
   "source": [
    "month_sales_mn=data.groupby(['custid','sales_month'])['net_amt'].mean().unstack().fillna(0)"
   ]
  },
  {
   "cell_type": "code",
   "execution_count": 286,
   "metadata": {},
   "outputs": [],
   "source": [
    "month_sales_mn.columns = ['mon_sale_mn'+ str(column) for column in month_sales_mn.columns]\n",
    "month_sales_mn = month_sales_mn.reset_index()"
   ]
  },
  {
   "cell_type": "code",
   "execution_count": 287,
   "metadata": {},
   "outputs": [],
   "source": [
    "month_sales_sm=data.groupby(['custid','sales_month'])['net_amt'].sum().unstack().fillna(0)"
   ]
  },
  {
   "cell_type": "code",
   "execution_count": 288,
   "metadata": {},
   "outputs": [],
   "source": [
    "month_sales_sm.columns = ['mon_sale_sm'+ str(column) for column in month_sales_sm.columns]\n",
    "month_sales_sm = month_sales_sm.reset_index()"
   ]
  },
  {
   "cell_type": "code",
   "execution_count": 289,
   "metadata": {},
   "outputs": [],
   "source": [
    "features = pd.merge(features, month_sales_sm, how='left',on = 'custid')"
   ]
  },
  {
   "cell_type": "code",
   "execution_count": 290,
   "metadata": {},
   "outputs": [],
   "source": [
    "features = pd.merge(features, month_sales_mn, how='left',on = 'custid')"
   ]
  },
  {
   "cell_type": "code",
   "execution_count": null,
   "metadata": {},
   "outputs": [],
   "source": []
  },
  {
   "cell_type": "code",
   "execution_count": 291,
   "metadata": {},
   "outputs": [],
   "source": [
    "# 구매 월 평균\n",
    "features['month_mean'] = data.groupby('custid')['sales_month'].mean().reset_index()['sales_month']"
   ]
  },
  {
   "cell_type": "code",
   "execution_count": null,
   "metadata": {},
   "outputs": [],
   "source": []
  },
  {
   "cell_type": "code",
   "execution_count": 292,
   "metadata": {},
   "outputs": [],
   "source": [
    "# 자주 가는 월 - 원래 자주가는 \n",
    "#f = pd.pivot_table(data, index='custid', columns='sales_month', values='tot_amt', \n",
    "#                   aggfunc=np.size, fill_value=0).reset_index()\n",
    "f=pd.pivot_table(data[data.tot_amt>0], index='custid', columns='sales_month', values='tot_amt', \n",
    "                   aggfunc=np.size, fill_value=0).reset_index()"
   ]
  },
  {
   "cell_type": "code",
   "execution_count": 293,
   "metadata": {},
   "outputs": [],
   "source": [
    "f.columns=['custid', '1_mmff', '2_mmff', '3_mmff', '4_mmff', '5_mmff', '6_mmff', '7_mmff', '8_mmff', '9_mmff', '10_mmff', '11_mmff', '12_mmff']"
   ]
  },
  {
   "cell_type": "code",
   "execution_count": 294,
   "metadata": {},
   "outputs": [],
   "source": [
    "features = pd.merge(features, f, how='left',on = 'custid')"
   ]
  },
  {
   "cell_type": "markdown",
   "metadata": {},
   "source": [
    "금액 관리"
   ]
  },
  {
   "cell_type": "code",
   "execution_count": 295,
   "metadata": {},
   "outputs": [],
   "source": [
    "refund_net_sum=data[data.net_amt<0].groupby('custid')['net_amt'].sum().reset_index()\n",
    "features = pd.merge(features, refund_net_sum, how='left',on = 'custid')"
   ]
  },
  {
   "cell_type": "code",
   "execution_count": 296,
   "metadata": {},
   "outputs": [],
   "source": [
    "net_saels_all=data.groupby('custid')['net_amt'].agg([('tot_sales_all','sum'),('mean_amt_all','mean')])\n",
    "features = pd.merge(features, net_saels_all, how='left',on = 'custid').fillna(0)"
   ]
  },
  {
   "cell_type": "code",
   "execution_count": 297,
   "metadata": {},
   "outputs": [],
   "source": [
    "net_sales_0_all=data[data.net_amt>0].groupby('custid')['net_amt'].agg([('tot_sales','sum'),('max_sales_amt','max'),('min_sales_amt','min'),('mean_sales_amt','mean')])\n",
    "features = pd.merge(features, net_sales_0_all, how='left',on = 'custid').fillna(0)"
   ]
  },
  {
   "cell_type": "code",
   "execution_count": 298,
   "metadata": {},
   "outputs": [],
   "source": [
    "net_refund_all=data[data.net_amt<0].groupby('custid')['net_amt'].agg([('tot_refund','sum'),('max_refund_amt','max'),('min_refund_amt','min'),('mean_refund_amt','mean')])\n",
    "features = pd.merge(features, net_refund_all, how='left',on = 'custid').fillna(0)"
   ]
  },
  {
   "cell_type": "code",
   "execution_count": 299,
   "metadata": {},
   "outputs": [],
   "source": [
    "features[['mean_amt_all','mean_sales_amt','mean_refund_amt']] =round(features[['mean_amt_all','mean_sales_amt','mean_refund_amt']],2)"
   ]
  },
  {
   "cell_type": "code",
   "execution_count": 300,
   "metadata": {},
   "outputs": [],
   "source": [
    "features['tot_sales_freq_mean']=features['tot_sales']/features['sales_dayofweek']"
   ]
  },
  {
   "cell_type": "code",
   "execution_count": null,
   "metadata": {},
   "outputs": [],
   "source": []
  },
  {
   "cell_type": "code",
   "execution_count": 301,
   "metadata": {},
   "outputs": [],
   "source": [
    "# 총 할인금액\n",
    "features['tot_dis_amt'] = data.groupby('custid')['dis_amt'].sum().reset_index()['dis_amt']"
   ]
  },
  {
   "cell_type": "code",
   "execution_count": 302,
   "metadata": {},
   "outputs": [],
   "source": [
    "# 최대, 평균 할인율\n",
    "features['max_dis'] = data.groupby('custid')['dis_rate'].max().reset_index()['dis_rate']\n",
    "features['mean_dis'] = data.groupby('custid')['dis_rate'].mean().reset_index()['dis_rate']"
   ]
  },
  {
   "cell_type": "code",
   "execution_count": 303,
   "metadata": {},
   "outputs": [],
   "source": [
    "# 할인 받은 빈도, 비율\n",
    "dis_rate=data.query(\"dis_rate>0\").groupby('custid')['dis_rate'].count().reset_index()\n",
    "features = pd.merge(features, dis_rate, how='left',on='custid').fillna(0)\n",
    "features.rename(columns = {'dis_rate': 'dis_freq'},inplace=True)"
   ]
  },
  {
   "cell_type": "code",
   "execution_count": 304,
   "metadata": {},
   "outputs": [],
   "source": [
    "features['dis_freq_rate'] = features['dis_freq']/features['sales_freq']"
   ]
  },
  {
   "cell_type": "code",
   "execution_count": null,
   "metadata": {},
   "outputs": [],
   "source": []
  },
  {
   "cell_type": "code",
   "execution_count": null,
   "metadata": {},
   "outputs": [],
   "source": []
  },
  {
   "cell_type": "code",
   "execution_count": 305,
   "metadata": {},
   "outputs": [],
   "source": [
    "# 할부 빈도, 비율/ 평균 할부개월\n",
    "inst_ft = data.query(\"inst_mon != 1\").groupby('custid')['inst_mon'].agg([('inst_freq','count'),('inst_avg','mean'),('inst_max','max')])\n",
    "features = pd.merge(features, inst_ft, how='left',on = 'custid').fillna(0)\n",
    "features['inst_freq_rate'] = features['inst_freq']/features['sales_freq']\n",
    "features['inst_freq_all_rate'] = features['inst_freq']/features['all_freq']"
   ]
  },
  {
   "cell_type": "code",
   "execution_count": 306,
   "metadata": {},
   "outputs": [],
   "source": [
    "# 할부 총 달\n",
    "inst_ft_sum = data.groupby('custid')['inst_mon'].agg([('inst_sum','sum')])\n",
    "features = pd.merge(features, inst_ft_sum, how='left',on = 'custid').fillna(0)"
   ]
  },
  {
   "cell_type": "code",
   "execution_count": null,
   "metadata": {},
   "outputs": [],
   "source": []
  },
  {
   "cell_type": "code",
   "execution_count": 307,
   "metadata": {},
   "outputs": [],
   "source": [
    "features['tot_inst_amt']=features['tot_sales']/features['inst_sum']"
   ]
  },
  {
   "cell_type": "code",
   "execution_count": null,
   "metadata": {},
   "outputs": [],
   "source": []
  },
  {
   "cell_type": "code",
   "execution_count": 308,
   "metadata": {},
   "outputs": [],
   "source": [
    "# 할부 총 달\n",
    "sales_noinst = data.groupby('custid')['inst_fee'].agg([('inst_fee_sum','sum')])\n",
    "features = pd.merge(features, sales_noinst, how='left',on = 'custid').fillna(0)"
   ]
  },
  {
   "cell_type": "code",
   "execution_count": 309,
   "metadata": {},
   "outputs": [],
   "source": [
    "#def inst_avg(x):\n",
    "#    if x >=3:\n",
    "#        return 1\n",
    "#    else:\n",
    "#        return 0\n",
    "#\n",
    "#features['inst_quan'] = features.inst_avg.apply(inst_avg)"
   ]
  },
  {
   "cell_type": "code",
   "execution_count": null,
   "metadata": {},
   "outputs": [],
   "source": []
  },
  {
   "cell_type": "code",
   "execution_count": null,
   "metadata": {},
   "outputs": [],
   "source": []
  },
  {
   "cell_type": "code",
   "execution_count": 310,
   "metadata": {},
   "outputs": [],
   "source": [
    "# 자주가는 지점이 어딘지 원핫인코딩 한 것\n",
    "data['str_nm'] = data['str_nm'].apply(lambda x: 'mu' if x=='무역점' else('bon' if x=='본점' else('cheon' if x=='천호점' else 'sin')))"
   ]
  },
  {
   "cell_type": "code",
   "execution_count": 311,
   "metadata": {},
   "outputs": [],
   "source": [
    "f = data.groupby(['custid','str_nm'])['str_nm'].agg([('str_freq','count')]).reset_index()"
   ]
  },
  {
   "cell_type": "code",
   "execution_count": 312,
   "metadata": {
    "scrolled": true
   },
   "outputs": [
    {
     "data": {
      "application/vnd.jupyter.widget-view+json": {
       "model_id": "87650d539b1c499d84fd647c43fc3ec6",
       "version_major": 2,
       "version_minor": 0
      },
      "text/plain": [
       "  0%|          | 0/35967 [00:00<?, ?it/s]"
      ]
     },
     "metadata": {},
     "output_type": "display_data"
    }
   ],
   "source": [
    "lst = []\n",
    "for i in tqdm_notebook(f['custid'].unique()) : \n",
    "    f2 = f.query(\"custid == @i\")\n",
    "    lst.append(f2.sort_values(by='str_freq',ascending=False)['str_nm'].iloc[0])\n",
    "\n",
    "features['str_freq'] = lst"
   ]
  },
  {
   "cell_type": "code",
   "execution_count": 313,
   "metadata": {},
   "outputs": [],
   "source": [
    "features = pd.get_dummies(features, 'str_freq')"
   ]
  },
  {
   "cell_type": "markdown",
   "metadata": {},
   "source": [
    "아이디 별 매장별 몇번씩 갔는지"
   ]
  },
  {
   "cell_type": "code",
   "execution_count": 314,
   "metadata": {},
   "outputs": [],
   "source": [
    "str_freq_all=data.groupby(['custid','str_nm'])['str_nm'].count().unstack().fillna(0)"
   ]
  },
  {
   "cell_type": "code",
   "execution_count": 315,
   "metadata": {},
   "outputs": [],
   "source": [
    "str_freq_all.columns = ['store_'+ str(column) for column in str_freq_all.columns]\n",
    "str_freq_all = str_freq_all.reset_index()"
   ]
  },
  {
   "cell_type": "code",
   "execution_count": 316,
   "metadata": {
    "scrolled": false
   },
   "outputs": [],
   "source": [
    "features = pd.merge(features, str_freq_all, how='left',on = 'custid')"
   ]
  },
  {
   "cell_type": "markdown",
   "metadata": {},
   "source": [
    "매장 별로 얼마나 구매를 하였는지 총구매액"
   ]
  },
  {
   "cell_type": "code",
   "execution_count": 317,
   "metadata": {},
   "outputs": [],
   "source": [
    "str_sale_sum=data[data.net_amt>0].groupby(['custid','str_nm'])['net_amt'].sum().unstack().fillna(0)"
   ]
  },
  {
   "cell_type": "code",
   "execution_count": 318,
   "metadata": {},
   "outputs": [],
   "source": [
    "str_sale_sum.columns = ['str_sales'+ str(column) for column in str_sale_sum.columns]\n",
    "str_sale_sum = str_sale_sum.reset_index()"
   ]
  },
  {
   "cell_type": "code",
   "execution_count": 319,
   "metadata": {},
   "outputs": [],
   "source": [
    "features = pd.merge(features, str_sale_sum, how='left',on = 'custid')"
   ]
  },
  {
   "cell_type": "code",
   "execution_count": null,
   "metadata": {},
   "outputs": [],
   "source": []
  },
  {
   "cell_type": "code",
   "execution_count": 320,
   "metadata": {},
   "outputs": [],
   "source": [
    "str_refund_sum=data[data.net_amt<0].groupby(['custid','str_nm'])['net_amt'].sum().unstack().fillna(0)"
   ]
  },
  {
   "cell_type": "code",
   "execution_count": 321,
   "metadata": {},
   "outputs": [],
   "source": [
    "str_refund_sum.columns = ['str_refund'+ str(column) for column in str_refund_sum.columns]\n",
    "str_refund_sum = str_refund_sum.reset_index()"
   ]
  },
  {
   "cell_type": "code",
   "execution_count": 322,
   "metadata": {},
   "outputs": [],
   "source": [
    "features = pd.merge(features, str_refund_sum, how='left',on = 'custid')"
   ]
  },
  {
   "cell_type": "code",
   "execution_count": null,
   "metadata": {},
   "outputs": [],
   "source": []
  },
  {
   "cell_type": "code",
   "execution_count": null,
   "metadata": {},
   "outputs": [],
   "source": []
  },
  {
   "cell_type": "code",
   "execution_count": 323,
   "metadata": {},
   "outputs": [],
   "source": [
    "# 선호 브랜드\n",
    "df = pd.merge(trn, y, on='custid')"
   ]
  },
  {
   "cell_type": "code",
   "execution_count": 324,
   "metadata": {},
   "outputs": [],
   "source": [
    "twn_prefer_brd = df.query(\"age>=20 & age<30\").brd_nm.value_counts().index[1:11].tolist()\n",
    "thr_prefer_brd = df.query(\"age>=30 & age<40\").brd_nm.value_counts().index[1:11].tolist()\n",
    "for_prefer_brd = df.query(\"age>=40 & age<50\").brd_nm.value_counts().index[1:11].tolist()\n",
    "fiv_prefer_brd = df.query(\"age>=50 & age<60\").brd_nm.value_counts().index[1:11].tolist()\n",
    "six_prefer_brd = df.query(\"age>=60\").brd_nm.value_counts().index[1:11].tolist()"
   ]
  },
  {
   "cell_type": "code",
   "execution_count": 325,
   "metadata": {},
   "outputs": [],
   "source": [
    "def map_twn_brd(x):\n",
    "    if x == twn_prefer_brd[0]:\n",
    "        x=10\n",
    "    elif x == twn_prefer_brd[1]:\n",
    "        x=9\n",
    "    elif x == twn_prefer_brd[2]:\n",
    "        x=8\n",
    "    elif x == twn_prefer_brd[3]:\n",
    "        x=7\n",
    "    elif x == twn_prefer_brd[4]:\n",
    "        x=6\n",
    "    elif x == twn_prefer_brd[5]:\n",
    "        x=5\n",
    "    elif x == twn_prefer_brd[6]:\n",
    "        x=4\n",
    "    elif x == twn_prefer_brd[7]:\n",
    "        x=3\n",
    "    elif x == twn_prefer_brd[8]:\n",
    "        x=2\n",
    "    elif x == twn_prefer_brd[9]:\n",
    "        x=1\n",
    "    else:\n",
    "        x=0\n",
    "    return x"
   ]
  },
  {
   "cell_type": "code",
   "execution_count": 326,
   "metadata": {},
   "outputs": [],
   "source": [
    "def map_thr_brd(x):\n",
    "    if x == thr_prefer_brd[0]:\n",
    "        x=10\n",
    "    elif x == thr_prefer_brd[1]:\n",
    "        x=9\n",
    "    elif x == thr_prefer_brd[2]:\n",
    "        x=8\n",
    "    elif x == thr_prefer_brd[3]:\n",
    "        x=7\n",
    "    elif x == thr_prefer_brd[4]:\n",
    "        x=6\n",
    "    elif x == thr_prefer_brd[5]:\n",
    "        x=5\n",
    "    elif x == thr_prefer_brd[6]:\n",
    "        x=4\n",
    "    elif x == thr_prefer_brd[7]:\n",
    "        x=3\n",
    "    elif x == thr_prefer_brd[8]:\n",
    "        x=2\n",
    "    elif x == thr_prefer_brd[9]:\n",
    "        x=1\n",
    "    else:\n",
    "        x=0\n",
    "    return x"
   ]
  },
  {
   "cell_type": "code",
   "execution_count": 327,
   "metadata": {},
   "outputs": [],
   "source": [
    "def map_for_brd(x):\n",
    "    if x == for_prefer_brd[0]:\n",
    "        x=10\n",
    "    elif x == for_prefer_brd[1]:\n",
    "        x=9\n",
    "    elif x == for_prefer_brd[2]:\n",
    "        x=8\n",
    "    elif x == for_prefer_brd[3]:\n",
    "        x=7\n",
    "    elif x == for_prefer_brd[4]:\n",
    "        x=6\n",
    "    elif x == for_prefer_brd[5]:\n",
    "        x=5\n",
    "    elif x == for_prefer_brd[6]:\n",
    "        x=4\n",
    "    elif x == for_prefer_brd[7]:\n",
    "        x=3\n",
    "    elif x == for_prefer_brd[8]:\n",
    "        x=2\n",
    "    elif x == for_prefer_brd[9]:\n",
    "        x=1\n",
    "    else:\n",
    "        x=0\n",
    "    return x"
   ]
  },
  {
   "cell_type": "code",
   "execution_count": 328,
   "metadata": {},
   "outputs": [],
   "source": [
    "def map_fiv_brd(x):\n",
    "    if x == fiv_prefer_brd[0]:\n",
    "        x=10\n",
    "    elif x == fiv_prefer_brd[1]:\n",
    "        x=9\n",
    "    elif x == fiv_prefer_brd[2]:\n",
    "        x=8\n",
    "    elif x == fiv_prefer_brd[3]:\n",
    "        x=7\n",
    "    elif x == fiv_prefer_brd[4]:\n",
    "        x=6\n",
    "    elif x == fiv_prefer_brd[5]:\n",
    "        x=5\n",
    "    elif x == fiv_prefer_brd[6]:\n",
    "        x=4\n",
    "    elif x == fiv_prefer_brd[7]:\n",
    "        x=3\n",
    "    elif x == fiv_prefer_brd[8]:\n",
    "        x=2\n",
    "    elif x == fiv_prefer_brd[9]:\n",
    "        x=1\n",
    "    else:\n",
    "        x=0\n",
    "    return x"
   ]
  },
  {
   "cell_type": "code",
   "execution_count": 329,
   "metadata": {},
   "outputs": [],
   "source": [
    "def map_six_brd(x):\n",
    "    if x == six_prefer_brd[0]:\n",
    "        x=10\n",
    "    elif x == six_prefer_brd[1]:\n",
    "        x=9\n",
    "    elif x == six_prefer_brd[2]:\n",
    "        x=8\n",
    "    elif x == six_prefer_brd[3]:\n",
    "        x=7\n",
    "    elif x == six_prefer_brd[4]:\n",
    "        x=6\n",
    "    elif x == six_prefer_brd[5]:\n",
    "        x=5\n",
    "    elif x == six_prefer_brd[6]:\n",
    "        x=4\n",
    "    elif x == six_prefer_brd[7]:\n",
    "        x=3\n",
    "    elif x == six_prefer_brd[8]:\n",
    "        x=2\n",
    "    elif x == six_prefer_brd[9]:\n",
    "        x=1\n",
    "    else:\n",
    "        x=0\n",
    "    return x"
   ]
  },
  {
   "cell_type": "code",
   "execution_count": 330,
   "metadata": {},
   "outputs": [],
   "source": [
    "data['twn_brd_point'] = data['brd_nm'].apply(map_twn_brd)\n",
    "data['thr_brd_point'] = data['brd_nm'].apply(map_thr_brd)\n",
    "data['for_brd_point'] = data['brd_nm'].apply(map_for_brd)\n",
    "data['fiv_brd_point'] = data['brd_nm'].apply(map_fiv_brd)\n",
    "data['six_brd_point'] = data['brd_nm'].apply(map_six_brd)"
   ]
  },
  {
   "cell_type": "code",
   "execution_count": 331,
   "metadata": {},
   "outputs": [],
   "source": [
    "twn_brd_point=data.groupby('custid')['twn_brd_point'].mean().reset_index()\n",
    "thr_brd_point=data.groupby('custid')['thr_brd_point'].mean().reset_index()\n",
    "for_brd_point=data.groupby('custid')['for_brd_point'].mean().reset_index()\n",
    "fiv_brd_point=data.groupby('custid')['fiv_brd_point'].mean().reset_index()\n",
    "six_brd_point=data.groupby('custid')['six_brd_point'].mean().reset_index()"
   ]
  },
  {
   "cell_type": "code",
   "execution_count": 332,
   "metadata": {},
   "outputs": [],
   "source": [
    "features = pd.merge(features, twn_brd_point, how='left',on='custid')\n",
    "features = pd.merge(features, thr_brd_point, how='left',on='custid')\n",
    "features = pd.merge(features, for_brd_point, how='left',on='custid')\n",
    "features = pd.merge(features, fiv_brd_point, how='left',on='custid')\n",
    "features = pd.merge(features, six_brd_point, how='left',on='custid')"
   ]
  },
  {
   "cell_type": "code",
   "execution_count": 333,
   "metadata": {},
   "outputs": [],
   "source": [
    "data['buyer_nm'] = data['buyer_nm'].str.replace('행사장.*','행사장')\n",
    "data['buyer_nm'] = data['buyer_nm'].str.replace('피혁A','피혁')\n",
    "data['buyer_nm'] = data['buyer_nm'].str.replace('피혁B','피혁')\n",
    "\n",
    "data['buyer_nm'] = data['buyer_nm'].map({'화장품':'a', '수입명품':'b', '캐릭터캐주얼':'c', '트래디셔널캐주얼':'d', '유아동복':'e', '니트단품':'f', '영캐주얼':'g',\n",
    "       '엘레강스캐주얼':'h', '가전':'i', '섬유':'j', '장신구':'k', '조리욕실':'l', '스포츠':'m', '침구수예':'n', '피혁':'o', '일반식품':'p',\n",
    "       '유니캐주얼':'q', '정장셔츠':'r', '디자이너부띠끄':'s', '문화완구':'t', '타운모피':'u', '조리식품':'v', '기타바이어':'w',\n",
    "       '도자기크리스탈':'x', '가구':'y', '생활용품':'z', '행사장':'aa', '청과곡물':'bb', '점외':'cc'})\n",
    "\n",
    "buyer = pd.pivot_table(index='custid',columns='buyer_nm',values='tot_amt',aggfunc=np.size,fill_value=0,data=data.query(\"tot_amt>0\")[['custid','buyer_nm','tot_amt']]).reset_index()\n",
    "features = pd.merge(features, buyer, on='custid')"
   ]
  },
  {
   "cell_type": "code",
   "execution_count": null,
   "metadata": {},
   "outputs": [],
   "source": []
  },
  {
   "cell_type": "code",
   "execution_count": null,
   "metadata": {},
   "outputs": [],
   "source": []
  },
  {
   "cell_type": "code",
   "execution_count": 334,
   "metadata": {},
   "outputs": [],
   "source": [
    "#구매상품군 다양성\n",
    "n = data.part_nm.nunique()\n",
    "f = data.groupby('custid')['part_nm'].agg([('part_unique', lambda x: len(x.unique()) / n)]).reset_index()\n",
    "features = pd.merge(features, f, on='custid')"
   ]
  },
  {
   "cell_type": "code",
   "execution_count": 335,
   "metadata": {},
   "outputs": [],
   "source": [
    "#브랜드 다양성\n",
    "n=data.brd_nm.nunique()\n",
    "f = data.groupby('custid')['brd_nm'].agg([('brd_unique', lambda x: len(x.unique()) / n)]).reset_index()\n",
    "features = pd.merge(features, f, on='custid')"
   ]
  },
  {
   "cell_type": "code",
   "execution_count": 336,
   "metadata": {},
   "outputs": [],
   "source": [
    "#매장 이용 다양성\n",
    "n = 4\n",
    "f = data.groupby('custid')['str_nm'].agg([('str_unique', lambda x: len(x.unique()) / n)]).reset_index()\n",
    "features = pd.merge(features, f, on='custid')"
   ]
  },
  {
   "cell_type": "code",
   "execution_count": 337,
   "metadata": {},
   "outputs": [],
   "source": [
    "#위에서는 출근 시간 9~17시 퇴근시간 이후로 했는데 좀더 세분화\n",
    "def f2(x):\n",
    "    if 9 <= x < 12 :\n",
    "        return('9_12_sale')\n",
    "    elif 12 <= x < 14 :\n",
    "        return('12_14_sale')\n",
    "    elif 14 <= x < 16 :\n",
    "        return('14_16_sale')\n",
    "    elif 16 <= x < 18 :\n",
    "        return('16_18_sale')\n",
    "    else :\n",
    "        return('18_sale')  \n",
    "\n",
    "data['timeslot2'] = data.sales_time.apply(f2)"
   ]
  },
  {
   "cell_type": "code",
   "execution_count": 338,
   "metadata": {},
   "outputs": [],
   "source": [
    "new_sales_type = pd.pivot_table(index='custid',columns='timeslot2',values='tot_amt',aggfunc=np.size, fill_value=0,data = data.query('tot_amt>0')[['custid','timeslot2','tot_amt']]).reset_index()"
   ]
  },
  {
   "cell_type": "code",
   "execution_count": 339,
   "metadata": {},
   "outputs": [],
   "source": [
    "features=pd.merge(features, new_sales_type, on='custid')"
   ]
  },
  {
   "cell_type": "code",
   "execution_count": 340,
   "metadata": {},
   "outputs": [],
   "source": [
    "features['12_14_sale_ratio']=features['12_14_sale']/(features['12_14_sale'] + features['14_16_sale']+features['16_18_sale']+features['18_sale']+features['9_12_sale'])\n",
    "features['14_16_sale_ratio']=features['14_16_sale']/(features['12_14_sale'] + features['14_16_sale']+features['16_18_sale']+features['18_sale']+features['9_12_sale'])\n",
    "features['16_18_sale_ratio']=features['16_18_sale']/(features['12_14_sale'] + features['14_16_sale']+features['16_18_sale']+features['18_sale']+features['9_12_sale'])\n",
    "features['18_sale_ratio']=features['18_sale']/(features['12_14_sale'] + features['14_16_sale']+features['16_18_sale']+features['18_sale']+features['9_12_sale'])\n",
    "features['9_12_sale_ratio']=features['9_12_sale']/(features['12_14_sale'] + features['14_16_sale']+features['16_18_sale']+features['18_sale']+features['9_12_sale'])"
   ]
  },
  {
   "cell_type": "code",
   "execution_count": null,
   "metadata": {},
   "outputs": [],
   "source": []
  },
  {
   "cell_type": "code",
   "execution_count": 341,
   "metadata": {},
   "outputs": [],
   "source": [
    "#충동지수 충동구매를 하는사람들은 누구일까? 여유가있는 나이가 많은 사람들이 충동구매를 할거같다. 곱하기대신 더하기도 생각해보기\n",
    "\n",
    "features['chungdong_sale']=(features.max_sales_amt/features.tot_sales)\n",
    "features['chungdong_sale_freq']= features.chungdong_sale*features.sales_freq"
   ]
  },
  {
   "cell_type": "code",
   "execution_count": 342,
   "metadata": {},
   "outputs": [],
   "source": [
    "features['mean_min_sales']=features.mean_sales_amt+features.min_sales_amt"
   ]
  },
  {
   "cell_type": "code",
   "execution_count": 343,
   "metadata": {},
   "outputs": [],
   "source": [
    "a=features[['custid','mean_min_sales']]"
   ]
  },
  {
   "cell_type": "code",
   "execution_count": 344,
   "metadata": {},
   "outputs": [],
   "source": [
    "df_LEFT_JOIN = pd.merge(data, a, left_on='custid', right_on='custid', how='left')"
   ]
  },
  {
   "cell_type": "code",
   "execution_count": 345,
   "metadata": {},
   "outputs": [],
   "source": [
    "df_LEFT_JOIN['chungdong']=df_LEFT_JOIN.net_amt >df_LEFT_JOIN.mean_min_sales"
   ]
  },
  {
   "cell_type": "code",
   "execution_count": 346,
   "metadata": {},
   "outputs": [],
   "source": [
    "chung=df_LEFT_JOIN.groupby('custid')['chungdong'].sum().reset_index()"
   ]
  },
  {
   "cell_type": "code",
   "execution_count": 347,
   "metadata": {},
   "outputs": [],
   "source": [
    "features = pd.merge(features, chung, left_on='custid', right_on='custid', how='left')"
   ]
  },
  {
   "cell_type": "code",
   "execution_count": null,
   "metadata": {},
   "outputs": [],
   "source": []
  },
  {
   "cell_type": "code",
   "execution_count": null,
   "metadata": {},
   "outputs": [],
   "source": []
  },
  {
   "cell_type": "code",
   "execution_count": 348,
   "metadata": {},
   "outputs": [],
   "source": [
    "a=data.groupby(['custid','sales_month','sales_day','sales_dayofweek'])['custid'].size().unstack().reset_index()"
   ]
  },
  {
   "cell_type": "code",
   "execution_count": 349,
   "metadata": {},
   "outputs": [],
   "source": [
    "a.iloc[:,3:]=a.iloc[:,3:]/a.iloc[:,3:]"
   ]
  },
  {
   "cell_type": "code",
   "execution_count": 350,
   "metadata": {},
   "outputs": [],
   "source": [
    "a=a.groupby('custid')[['금','목','수','월','일','토','화']].sum()"
   ]
  },
  {
   "cell_type": "code",
   "execution_count": 351,
   "metadata": {},
   "outputs": [],
   "source": [
    "features = pd.merge(features, a, on='custid')"
   ]
  },
  {
   "cell_type": "code",
   "execution_count": 352,
   "metadata": {},
   "outputs": [],
   "source": [
    "features = features.rename(columns={'월':'mon_opn','화':'tue_opn','수':'wen_opn','목':'thr_opn','금':'fri_opn','토':'sat_opn','일':'sun_opn'})"
   ]
  },
  {
   "cell_type": "code",
   "execution_count": 353,
   "metadata": {},
   "outputs": [],
   "source": [
    "features['mon_opn_rate']=features.mon_opn/features.sales_dayofweek\n",
    "features['tue_opn_rate']=features.tue_opn/features.sales_dayofweek\n",
    "features['wen_opn_rate']=features.wen_opn/features.sales_dayofweek\n",
    "features['thr_opn_rate']=features.thr_opn/features.sales_dayofweek\n",
    "features['fri_opn_rate']=features.fri_opn/features.sales_dayofweek\n",
    "features['sat_opn_rate']=features.sat_opn/features.sales_dayofweek\n",
    "features['sun_opn_rate']=features.sun_opn/features.sales_dayofweek"
   ]
  },
  {
   "cell_type": "code",
   "execution_count": 354,
   "metadata": {},
   "outputs": [],
   "source": [
    "a=data[data.net_amt>0].groupby(['custid','sales_month','sales_day','sales_dayofweek'])['net_amt'].sum().unstack().reset_index()"
   ]
  },
  {
   "cell_type": "code",
   "execution_count": 355,
   "metadata": {},
   "outputs": [],
   "source": [
    "a=a.groupby('custid')[['금','목','수','월','일','토','화']].sum()"
   ]
  },
  {
   "cell_type": "code",
   "execution_count": 356,
   "metadata": {},
   "outputs": [],
   "source": [
    "features = pd.merge(features, a, on='custid')"
   ]
  },
  {
   "cell_type": "code",
   "execution_count": 357,
   "metadata": {},
   "outputs": [],
   "source": [
    "features = features.rename(columns={'월':'mon_pri','화':'tue_pri','수':'wen_pri','목':'thr_pri','금':'fri_pri','토':'sat_pri','일':'sun_pri'})"
   ]
  },
  {
   "cell_type": "code",
   "execution_count": 358,
   "metadata": {},
   "outputs": [],
   "source": [
    "features['mon_pri_rate']=features.mon_pri/features.tot_sales\n",
    "features['tue_pri_rate']=features.tue_pri/features.tot_sales\n",
    "features['wen_pri_rate']=features.wen_pri/features.tot_sales\n",
    "features['thr_pri_rate']=features.thr_pri/features.tot_sales\n",
    "features['fri_pri_rate']=features.fri_pri/features.tot_sales\n",
    "features['sat_pri_rate']=features.sat_pri/features.tot_sales\n",
    "features['sun_pri_rate']=features.sun_pri/features.tot_sales"
   ]
  },
  {
   "cell_type": "markdown",
   "metadata": {},
   "source": [
    "충동구매를 하고 환불을 한 횟수"
   ]
  },
  {
   "cell_type": "code",
   "execution_count": null,
   "metadata": {},
   "outputs": [],
   "source": []
  },
  {
   "cell_type": "code",
   "execution_count": 359,
   "metadata": {},
   "outputs": [],
   "source": [
    "features['max_min_sales']=features['max_sales_amt']-features['min_sales_amt']"
   ]
  },
  {
   "cell_type": "code",
   "execution_count": 360,
   "metadata": {},
   "outputs": [],
   "source": [
    "def shopfnc(m):\n",
    "    if m < 5:\n",
    "        return 1\n",
    "    elif m < 12.94 :\n",
    "        return 2 \n",
    "    elif m < 21.538 :\n",
    "        return 3 \n",
    "    elif m < 33.909 :\n",
    "        return 4\n",
    "    else:\n",
    "        return 5"
   ]
  },
  {
   "cell_type": "code",
   "execution_count": 361,
   "metadata": {},
   "outputs": [],
   "source": [
    "features['shop_time_mean']= features.shop_time.apply(lambda x : shopfnc(x))"
   ]
  },
  {
   "cell_type": "code",
   "execution_count": 362,
   "metadata": {},
   "outputs": [
    {
     "name": "stdout",
     "output_type": "stream",
     "text": [
      "249406.0\n",
      "498646.0000000001\n",
      "795650.0\n",
      "1165370.0000000002\n",
      "1622598.0\n",
      "2254104.0\n",
      "3107333.5999999996\n",
      "4541631.800000001\n",
      "7485838.200000001\n"
     ]
    }
   ],
   "source": [
    "for i in np.arange(0.1,1,0.1):\n",
    "    print(features.tot_sales.quantile(q=i))"
   ]
  },
  {
   "cell_type": "code",
   "execution_count": 363,
   "metadata": {
    "scrolled": true
   },
   "outputs": [],
   "source": [
    "# 10분위별로 (1 ~ 10 범위)\n",
    "def fnc(m) : \n",
    "    if m < 249406.0:\n",
    "        return 1\n",
    "    elif m <498646 :\n",
    "        return 2 \n",
    "    elif m < 795650.0 :\n",
    "        return 3 \n",
    "    elif m < 1165370:\n",
    "        return 4 \n",
    "    elif m < 1622598.0 :\n",
    "        return 5 \n",
    "    elif m < 2254104 :\n",
    "        return 6 \n",
    "    elif m < 3107333:\n",
    "        return 7 \n",
    "    elif m < 4541631 :\n",
    "        return 8\n",
    "    elif m < 7485838 :\n",
    "        return 9 \n",
    "    else:\n",
    "        return 10\n",
    "\n",
    "features['tot_sales_amt_quan']= features.tot_sales.apply(lambda x : fnc(x))"
   ]
  },
  {
   "cell_type": "code",
   "execution_count": 364,
   "metadata": {
    "scrolled": false
   },
   "outputs": [
    {
     "name": "stdout",
     "output_type": "stream",
     "text": [
      "98400.0\n",
      "149000.0\n",
      "199000.0\n",
      "261250.0\n",
      "330600.0\n",
      "416000.0\n",
      "534850.0\n",
      "736250.0\n",
      "1180000.0\n"
     ]
    }
   ],
   "source": [
    "for i in np.arange(0.1,1,0.1):\n",
    "    print(features.max_sales_amt.quantile(q=i))"
   ]
  },
  {
   "cell_type": "code",
   "execution_count": 365,
   "metadata": {},
   "outputs": [],
   "source": [
    "# 10분위별로 가격선호도 조사 (1 ~ 10 범위)\n",
    "def fnc2(m) : \n",
    "    if m < 98400.0 :\n",
    "        return 1\n",
    "    elif m < 149000.0 :\n",
    "        return 2 \n",
    "    elif m < 199000.0 :\n",
    "        return 3 \n",
    "    elif m < 261250.0 :\n",
    "        return 4 \n",
    "    elif m < 330600.0 :\n",
    "        return 5 \n",
    "    elif m < 416000.0 :\n",
    "        return 6 \n",
    "    elif m < 534850.0 :\n",
    "        return 7 \n",
    "    elif m < 736250.0 :\n",
    "        return 8\n",
    "    elif m < 1180000.0 :\n",
    "        return 9 \n",
    "    else:\n",
    "        return 10\n",
    "\n",
    "features['max_amt_quan']= features.max_sales_amt.apply(lambda x : fnc2(x))"
   ]
  },
  {
   "cell_type": "code",
   "execution_count": null,
   "metadata": {},
   "outputs": [],
   "source": []
  },
  {
   "cell_type": "code",
   "execution_count": 366,
   "metadata": {},
   "outputs": [],
   "source": [
    "#아동상품 구매건수\n",
    "f = data[data.tot_amt > 0].groupby('custid')['part_nm'].agg([('baby_sales', lambda x: list(x).count('아동')+list(x).count('케주얼,구두,아동')+list(x).count('아동문화')+list(x).count('아동,스포츠'))]).reset_index()\n",
    "features = pd.merge(features, f, on='custid')"
   ]
  },
  {
   "cell_type": "code",
   "execution_count": 367,
   "metadata": {},
   "outputs": [],
   "source": [
    "features['baby_sales_freq']=features['baby_sales']/features.sales_freq"
   ]
  },
  {
   "cell_type": "code",
   "execution_count": 368,
   "metadata": {},
   "outputs": [],
   "source": [
    "#할부 총합\n",
    "sales_installment=data.groupby('custid')['inst_mon'].agg('sum').reset_index()\n",
    "features = pd.merge(features, sales_installment, on='custid')"
   ]
  },
  {
   "cell_type": "code",
   "execution_count": null,
   "metadata": {},
   "outputs": [],
   "source": []
  },
  {
   "cell_type": "code",
   "execution_count": 369,
   "metadata": {},
   "outputs": [],
   "source": [
    "data['team_nm'] = data['team_nm'].map({'잡화가용팀':'aa', '의류패션팀':'bb', '식품팀':'cb', '인터넷백화점':'dd'})"
   ]
  },
  {
   "cell_type": "code",
   "execution_count": 370,
   "metadata": {},
   "outputs": [],
   "source": [
    "f = data.groupby(['custid', 'team_nm'])['custid'].count().unstack()\n",
    "f = f.fillna(0)\n",
    "f.columns = ['Team_'+ str(column) for column in f.columns]\n",
    "f = f.reset_index()"
   ]
  },
  {
   "cell_type": "code",
   "execution_count": 371,
   "metadata": {},
   "outputs": [],
   "source": [
    "features = pd.merge(features, f, on = 'custid')"
   ]
  },
  {
   "cell_type": "code",
   "execution_count": 372,
   "metadata": {},
   "outputs": [],
   "source": [
    "features['food_rate']=features.Team_cb/(features.Team_aa+features.Team_bb+features.Team_cb+features.Team_dd)"
   ]
  },
  {
   "cell_type": "code",
   "execution_count": 373,
   "metadata": {},
   "outputs": [],
   "source": [
    "features['cloth_rate']=features.Team_bb/(features.Team_aa+features.Team_bb+features.Team_cb+features.Team_dd)"
   ]
  },
  {
   "cell_type": "code",
   "execution_count": 374,
   "metadata": {},
   "outputs": [],
   "source": [
    "features['stuff_rate']=features.Team_aa/(features.Team_aa+features.Team_bb+features.Team_cb+features.Team_dd)"
   ]
  },
  {
   "cell_type": "code",
   "execution_count": null,
   "metadata": {},
   "outputs": [],
   "source": []
  },
  {
   "cell_type": "code",
   "execution_count": 375,
   "metadata": {},
   "outputs": [],
   "source": [
    "food_list=['조리식품','축산물','농산물','수산물']\n",
    "t1 = data[data.net_amt>0].query(\"pc_nm == @food_list\").groupby('custid')['net_amt'].agg([('food_sales', np.sum)])\n",
    "features= pd.merge(features,t1, on = 'custid', how='left').fillna(0)\n",
    "features['food_sales_rate'] = features['food_sales'] / features['tot_sales']"
   ]
  },
  {
   "cell_type": "code",
   "execution_count": 376,
   "metadata": {},
   "outputs": [],
   "source": [
    "st=f\"(net_amt>0) and (pc_nm=='화장품')\""
   ]
  },
  {
   "cell_type": "code",
   "execution_count": 377,
   "metadata": {},
   "outputs": [],
   "source": [
    "t2 = data.query(st).groupby('custid')['net_amt'].agg([('face_goods_sales', np.sum)])\n",
    "features= pd.merge(features,t2, on = 'custid', how='left').fillna(0)\n",
    "features['face_sales_rate'] = features['face_goods_sales'] / features['tot_sales']"
   ]
  },
  {
   "cell_type": "code",
   "execution_count": 378,
   "metadata": {},
   "outputs": [],
   "source": [
    "t2 = data.query(st).groupby('custid')['net_amt'].agg([('face_goods_freq', np.size)])\n",
    "features= pd.merge(features,t2, on = 'custid', how='left').fillna(0)\n",
    "features['face_goods_rate'] = features['face_goods_freq'] / features['sales_freq']"
   ]
  },
  {
   "cell_type": "code",
   "execution_count": 379,
   "metadata": {},
   "outputs": [],
   "source": [
    "data['pc_nm'] = data['pc_nm'].str.replace('디자이너부띠끄','디자이너부띠크')\n",
    "data['pc_nm'] = data['pc_nm'].str.replace('디자이너부틱','디자이너부띠크')\n",
    "data['pc_nm'] = data['pc_nm'].str.replace('트래디셔널','트레디셔널')\n",
    "data['pc_nm'] = data['pc_nm'].str.replace('침구/수예','침구수예')\n",
    "data['pc_nm'] = data['pc_nm'].str.replace('침구,수예','침구수예')\n",
    "data['pc_nm'] = data['pc_nm'].str.replace('피혁A','피혁')\n",
    "data['pc_nm'] = data['pc_nm'].str.replace('피혁B','피혁')\n",
    "data['pc_nm'] = data['pc_nm'].str.replace('캐릭터케쥬얼','캐릭터캐쥬얼')\n",
    "data['pc_nm'] = data['pc_nm'].str.replace('캐릭터캐주얼','캐릭터캐쥬얼')\n",
    "data['pc_nm'] = data['pc_nm'].str.replace('진캐주얼','진캐쥬얼')\n",
    "data['pc_nm'] = data['pc_nm'].str.replace('진케주얼','진캐쥬얼')\n",
    "data['pc_nm'] = data['pc_nm'].str.replace('로얄부틱','로얄부띠크')\n",
    "data['pc_nm'] = data['pc_nm'].str.replace('로얄부띠끄','로얄부띠크')"
   ]
  },
  {
   "cell_type": "code",
   "execution_count": 380,
   "metadata": {},
   "outputs": [],
   "source": [
    "twn_trend_brd = df.query(\"age>=20 & age<30\").pc_nm.value_counts().index[1:11].tolist()\n",
    "thr_trend_brd = df.query(\"age>=30 & age<40\").pc_nm.value_counts().index[1:11].tolist()\n",
    "for_trend_brd = df.query(\"age>=40 & age<50\").pc_nm.value_counts().index[1:11].tolist()\n",
    "fiv_trend_brd = df.query(\"age>=50 & age<60\").pc_nm.value_counts().index[1:11].tolist()\n",
    "six_trend_brd = df.query(\"age>=60\").pc_nm.value_counts().index[1:11].tolist()\n",
    "\n",
    "def map_twn_pc(x):\n",
    "    if x == twn_trend_brd[0]:\n",
    "        x=10\n",
    "    elif x == twn_trend_brd[1]:\n",
    "        x=9\n",
    "    elif x == twn_trend_brd[2]:\n",
    "        x=8\n",
    "    elif x == twn_trend_brd[3]:\n",
    "        x=7\n",
    "    elif x == twn_trend_brd[4]:\n",
    "        x=6\n",
    "    elif x == twn_trend_brd[5]:\n",
    "        x=5\n",
    "    elif x == twn_trend_brd[6]:\n",
    "        x=4\n",
    "    elif x == twn_trend_brd[7]:\n",
    "        x=3\n",
    "    elif x == twn_trend_brd[8]:\n",
    "        x=2\n",
    "    elif x == twn_trend_brd[9]:\n",
    "        x=1\n",
    "    else:\n",
    "        x=0\n",
    "    return x\n",
    "\n",
    "def map_thr_pc(x):\n",
    "    if x == thr_trend_brd[0]:\n",
    "        x=10\n",
    "    elif x == thr_trend_brd[1]:\n",
    "        x=9\n",
    "    elif x == thr_trend_brd[2]:\n",
    "        x=8\n",
    "    elif x == thr_trend_brd[3]:\n",
    "        x=7\n",
    "    elif x == thr_trend_brd[4]:\n",
    "        x=6\n",
    "    elif x == thr_trend_brd[5]:\n",
    "        x=5\n",
    "    elif x == thr_trend_brd[6]:\n",
    "        x=4\n",
    "    elif x == thr_trend_brd[7]:\n",
    "        x=3\n",
    "    elif x == thr_trend_brd[8]:\n",
    "        x=2\n",
    "    elif x == thr_trend_brd[9]:\n",
    "        x=1\n",
    "    else:\n",
    "        x=0\n",
    "    return x\n",
    "\n",
    "def map_for_pc(x):\n",
    "    if x == for_trend_brd[0]:\n",
    "        x=10\n",
    "    elif x == for_trend_brd[1]:\n",
    "        x=9\n",
    "    elif x == for_trend_brd[2]:\n",
    "        x=8\n",
    "    elif x == for_trend_brd[3]:\n",
    "        x=7\n",
    "    elif x == for_trend_brd[4]:\n",
    "        x=6\n",
    "    elif x == for_trend_brd[5]:\n",
    "        x=5\n",
    "    elif x == for_trend_brd[6]:\n",
    "        x=4\n",
    "    elif x == for_trend_brd[7]:\n",
    "        x=3\n",
    "    elif x == for_trend_brd[8]:\n",
    "        x=2\n",
    "    elif x == for_trend_brd[9]:\n",
    "        x=1\n",
    "    else:\n",
    "        x=0\n",
    "    return x\n",
    "\n",
    "def map_fiv_pc(x):\n",
    "    if x == fiv_trend_brd[0]:\n",
    "        x=10\n",
    "    elif x == fiv_trend_brd[1]:\n",
    "        x=9\n",
    "    elif x == fiv_trend_brd[2]:\n",
    "        x=8\n",
    "    elif x == fiv_trend_brd[3]:\n",
    "        x=7\n",
    "    elif x == fiv_trend_brd[4]:\n",
    "        x=6\n",
    "    elif x == fiv_trend_brd[5]:\n",
    "        x=5\n",
    "    elif x == fiv_trend_brd[6]:\n",
    "        x=4\n",
    "    elif x == fiv_trend_brd[7]:\n",
    "        x=3\n",
    "    elif x == fiv_trend_brd[8]:\n",
    "        x=2\n",
    "    elif x == fiv_trend_brd[9]:\n",
    "        x=1\n",
    "    else:\n",
    "        x=0\n",
    "    return x\n",
    "\n",
    "def map_six_pc(x):\n",
    "    if x == six_trend_brd[0]:\n",
    "        x=10\n",
    "    elif x == six_trend_brd[1]:\n",
    "        x=9\n",
    "    elif x == six_trend_brd[2]:\n",
    "        x=8\n",
    "    elif x == six_trend_brd[3]:\n",
    "        x=7\n",
    "    elif x == six_trend_brd[4]:\n",
    "        x=6\n",
    "    elif x == six_trend_brd[5]:\n",
    "        x=5\n",
    "    elif x == six_trend_brd[6]:\n",
    "        x=4\n",
    "    elif x == six_trend_brd[7]:\n",
    "        x=3\n",
    "    elif x == six_trend_brd[8]:\n",
    "        x=2\n",
    "    elif x == six_trend_brd[9]:\n",
    "        x=1\n",
    "    else:\n",
    "        x=0\n",
    "    return x\n",
    "\n",
    "data['twn_pc_point'] = data['pc_nm'].apply(map_twn_pc)\n",
    "data['thr_pc_point'] = data['pc_nm'].apply(map_thr_pc)\n",
    "data['for_pc_point'] = data['pc_nm'].apply(map_for_pc)\n",
    "data['fiv_pc_point'] = data['pc_nm'].apply(map_fiv_pc)\n",
    "data['six_pc_point'] = data['pc_nm'].apply(map_six_pc)\n",
    "\n",
    "twn_pcnm_point=data.groupby('custid')['twn_pc_point'].mean().reset_index()\n",
    "thr_pcnm_point=data.groupby('custid')['thr_pc_point'].mean().reset_index()\n",
    "for_pcnm_point=data.groupby('custid')['for_pc_point'].mean().reset_index()\n",
    "fiv_pcnm_point=data.groupby('custid')['fiv_pc_point'].mean().reset_index()\n",
    "six_pcnm_point=data.groupby('custid')['six_pc_point'].mean().reset_index()\n",
    "\n",
    "features = pd.merge(features, twn_pcnm_point, how='left',on='custid')\n",
    "features = pd.merge(features, thr_pcnm_point, how='left',on='custid')\n",
    "features = pd.merge(features, for_pcnm_point, how='left',on='custid')\n",
    "features = pd.merge(features, fiv_pcnm_point, how='left',on='custid')\n",
    "features = pd.merge(features, six_pcnm_point, how='left',on='custid')"
   ]
  },
  {
   "cell_type": "code",
   "execution_count": 381,
   "metadata": {},
   "outputs": [],
   "source": [
    "f = data[data.tot_amt > 0].groupby('custid')['pc_nm'].agg([('young_pc', lambda x: list(x).count('캐릭터정장')+list(x).count('영트랜디')+list(x).count('영캐릭터캐쥬얼')+list(x).count('트랜디 케쥬얼')+list(x).count('캐릭터캐쥬얼')+list(x).count('장신구')+list(x).count('피혁')+list(x).count('섬유')+list(x).count('소품')+list(x).count('핸드백')+list(x).count('(주)현스포츠아쌤'))]).reset_index()\n",
    "features = pd.merge(features, f, on='custid')"
   ]
  },
  {
   "cell_type": "code",
   "execution_count": 382,
   "metadata": {},
   "outputs": [],
   "source": [
    "features['20goods_rate']=features['young_pc']/features.sales_freq"
   ]
  },
  {
   "cell_type": "code",
   "execution_count": 383,
   "metadata": {},
   "outputs": [],
   "source": [
    "#50대선호\n",
    "\n",
    "f = data[data.tot_amt > 0].groupby('custid')['pc_nm'].agg([('butique_freq', lambda x: list(x).count('로얄부띠크')+list(x).count('디자이너부띠크'))]).reset_index()\n",
    "features = pd.merge(features, f, on='custid')"
   ]
  },
  {
   "cell_type": "code",
   "execution_count": 384,
   "metadata": {},
   "outputs": [],
   "source": [
    "features['50goods_rate']=features['butique_freq']/features.sales_freq"
   ]
  },
  {
   "cell_type": "code",
   "execution_count": 385,
   "metadata": {},
   "outputs": [],
   "source": [
    "#트랜드 명품 구매비율\n",
    "f = data[data.tot_amt > 0].groupby('custid')['pc_nm'].agg([('expensive_freq', lambda x: list(x).count('명품토탈')+list(x).count('명품시즌'))]).reset_index()\n",
    "features = pd.merge(features, f, on='custid')"
   ]
  },
  {
   "cell_type": "code",
   "execution_count": 386,
   "metadata": {},
   "outputs": [],
   "source": [
    "features['20~30expensive_rate']=features['expensive_freq']/features.sales_freq"
   ]
  },
  {
   "cell_type": "code",
   "execution_count": null,
   "metadata": {},
   "outputs": [],
   "source": []
  },
  {
   "cell_type": "code",
   "execution_count": null,
   "metadata": {},
   "outputs": [],
   "source": []
  },
  {
   "cell_type": "code",
   "execution_count": 387,
   "metadata": {},
   "outputs": [],
   "source": [
    "data['pc_nm'] = data['pc_nm'].map({'화장품':'face_goods', '명품토탈':'expensive_total', '캐릭터정장':'chr_suit',  '수예':'suae', '유아/완구':'baby_wangu', '패션슈즈':'fashoin_shoes',\n",
    "       '가전':'electronic', '영트랜디':'young_trend', '조리식품':'instant_food', '스포츠':'sports', '아동':'baby', '트래디셔널캐쥬얼':'trady_ca', '가전/문화':'ele_cultur', '셔츠':'shirts',\n",
    "       '란제리':'rangeri', '식기':'food_case', '영캐릭터캐쥬얼':'young_chr', '골프':'golf', '캐릭터캐쥬얼':'chr_cha', '엘레강스캐쥬얼':'elegangs', '트레디셔널':'tradi',\n",
    "       '정장':'suit', '일반식품':'normal_food', '아동복':'baby_cloth', '축산물':'pig', '미확인pc':'unknown_pc','농산물':'vegetable','트랜디 케쥬얼':'trendi cha',\n",
    "        '영트렌디':'young_trendi','여성캐주얼':'girl_cha','문화용품':'culture_goods','생활용품':'lsang','문화':'culture','니트,단품,모피':'neat_mofi','섬유잡화':'sumyou_goods','내의란제리':'inrangeri',\n",
    "        '진캐쥬얼':'jean_ca3','여성구두':'girl_shoes','명품시즌':'expensive_season','남여구두':'man_girl','장신구':'jangsingu','수산물':'susanmul','악세사리':'accesory','섬유':'sumyou',\n",
    "        '어덜트캐주얼':'adult_cha','소품':'sopeum','캐주얼':'cha','미씨캐주얼':'messi_cha','영캐주얼':'young_cha','타운란제리':'townrangeri',\n",
    "        '핸드백':'handbag','수입명품':'suip_goods','디자이너부띠크':'designier_beatuty','쇼핑보증':'shooping_bo','미씨캐릭터':'messi_cha5',\n",
    "        '가구':'gagu','캐쥬얼':'cha2','니트/단품':'neat_one','남성잡화':'man_jobs','(주)현스포츠아쌤':'sportsam','침구수예':'chimgu4','패션시즌':'fashion_season',\n",
    "        '수입의류':'suip_cloth','용기보증':'youngi','사이버쇼핑':'cyber_shopping'})"
   ]
  },
  {
   "cell_type": "code",
   "execution_count": 388,
   "metadata": {},
   "outputs": [],
   "source": [
    "#주구매상품\n",
    "f = data.groupby('custid')['pc_nm'].agg([\n",
    "    ('main_goods', lambda x: x.value_counts().index[0])\n",
    "]).reset_index()"
   ]
  },
  {
   "cell_type": "code",
   "execution_count": 389,
   "metadata": {},
   "outputs": [],
   "source": [
    "features = features.merge(f, how='left')\n",
    "features = pd.get_dummies(features, 'main_goods')"
   ]
  },
  {
   "cell_type": "code",
   "execution_count": 390,
   "metadata": {},
   "outputs": [],
   "source": [
    "f_p = data[data.tot_amt>0].groupby('pc_nm')['tot_amt'].agg([\n",
    "    ('main_goods_price', 'mean')\n",
    "]).reset_index()"
   ]
  },
  {
   "cell_type": "code",
   "execution_count": 391,
   "metadata": {},
   "outputs": [],
   "source": [
    "f = pd.merge(f, f_p,  left_on = 'main_goods',right_on='pc_nm',how='left')"
   ]
  },
  {
   "cell_type": "code",
   "execution_count": 392,
   "metadata": {},
   "outputs": [],
   "source": [
    "features = pd.merge(features, f[['custid','main_goods_price']],  left_on = 'custid',right_on='custid',how='left')"
   ]
  },
  {
   "cell_type": "code",
   "execution_count": 393,
   "metadata": {},
   "outputs": [],
   "source": [
    "pc_count=data[data.tot_amt>0].groupby(['custid','pc_nm'])['pc_nm'].count().unstack().fillna(0)\n",
    "\n",
    "pc_count.columns = ['pc_size_'+ str(column) for column in pc_count.columns]\n",
    "pc_count = pc_count.reset_index()\n",
    "\n",
    "features = pd.merge(features, pc_count, how='left',on = 'custid')"
   ]
  },
  {
   "cell_type": "code",
   "execution_count": 394,
   "metadata": {},
   "outputs": [],
   "source": [
    "\n",
    "data['part_nm'] = data['part_nm'].map({'명품잡화':'aaa', '잡화파트':'bbb', \n",
    "                                       '남성의류':'ccc', '골프/유니캐쥬얼':'ddd', \n",
    "                                       '가정용품':'eee', '아동':'fff', '잡화':'ggg',\n",
    "                                       '영어덜트캐쥬얼':'hhh', '영라이브':'iii',\n",
    "        '공산품':'jjj', '스포츠캐쥬얼':'kkk', '여성캐주얼':'lll', '여성정장':'mmm',\n",
    "            '케주얼,구두,아동':'nnn', '남성정장스포츠':'ooo', '아동문화':'ppp',\n",
    "'로얄부띠끄':'qqq', '공산품파트':'rrr', '생식품파트':'sss', '여성의류파트':'ttt',\n",
    "                '가정용품파트':'uuu', '아동,스포츠':'vvv', '패션잡화':'www',\n",
    "       '영캐릭터':'abbb', '영플라자':'abbc', '생식품':'abbd', '스포츠캐주얼':'abbe',\n",
    "                '여성캐쥬얼':'abbf', '로얄부틱':'abbg','인터넷백화점':'abbh'})\n"
   ]
  },
  {
   "cell_type": "code",
   "execution_count": 395,
   "metadata": {},
   "outputs": [
    {
     "data": {
      "text/plain": [
       "0         aaa\n",
       "1         aaa\n",
       "2         bbb\n",
       "3         bbb\n",
       "4         aaa\n",
       "         ... \n",
       "414950    ppp\n",
       "414951    www\n",
       "414952    nnn\n",
       "414953    nnn\n",
       "414954    aaa\n",
       "Name: part_nm, Length: 1040039, dtype: object"
      ]
     },
     "execution_count": 395,
     "metadata": {},
     "output_type": "execute_result"
    }
   ],
   "source": [
    "data.part_nm"
   ]
  },
  {
   "cell_type": "code",
   "execution_count": 396,
   "metadata": {},
   "outputs": [],
   "source": [
    "#주구매상품분류\n",
    "f = data.groupby('custid')['part_nm'].agg([\n",
    "    ('main_part', lambda x: x.value_counts().index[0])\n",
    "]).reset_index()"
   ]
  },
  {
   "cell_type": "code",
   "execution_count": 397,
   "metadata": {},
   "outputs": [],
   "source": [
    "features = features.merge(f, how='left')\n",
    "features = pd.get_dummies(features, 'main_part')"
   ]
  },
  {
   "cell_type": "code",
   "execution_count": 398,
   "metadata": {},
   "outputs": [],
   "source": [
    "f_p = data[data.tot_amt>0].groupby('part_nm')['tot_amt'].agg([\n",
    "    ('main_part_price', 'mean')\n",
    "]).reset_index()"
   ]
  },
  {
   "cell_type": "code",
   "execution_count": 399,
   "metadata": {},
   "outputs": [],
   "source": [
    "f = pd.merge(f, f_p,  left_on = 'main_part',right_on='part_nm',how='left')"
   ]
  },
  {
   "cell_type": "code",
   "execution_count": 400,
   "metadata": {},
   "outputs": [],
   "source": [
    "features = pd.merge(features, f[['custid','main_part_price']],  left_on = 'custid',right_on='custid',how='left')"
   ]
  },
  {
   "cell_type": "code",
   "execution_count": 401,
   "metadata": {},
   "outputs": [],
   "source": [
    "part_count=data[data.tot_amt>0].groupby(['custid','part_nm'])['part_nm'].count().unstack().fillna(0)\n",
    "\n",
    "part_count.columns = ['part_size_'+ str(column) for column in part_count.columns]\n",
    "part_count = part_count.reset_index()\n",
    "\n",
    "features = pd.merge(features, part_count, how='left',on = 'custid')"
   ]
  },
  {
   "cell_type": "code",
   "execution_count": 402,
   "metadata": {},
   "outputs": [],
   "source": [
    "#내점 당 구매건수 / 내점당 구매액\n",
    "features['one_sales_freq']=features.sales_freq/features.sales_dayofweek\n",
    "features['one_tot_amt']=features.tot_sales/features.sales_dayofweek"
   ]
  },
  {
   "cell_type": "code",
   "execution_count": null,
   "metadata": {},
   "outputs": [],
   "source": []
  },
  {
   "cell_type": "code",
   "execution_count": 403,
   "metadata": {},
   "outputs": [],
   "source": [
    "data['part_pc'] = data['part_nm'].astype(str) + \"_\" + data['pc_nm'].astype(str)"
   ]
  },
  {
   "cell_type": "code",
   "execution_count": 404,
   "metadata": {},
   "outputs": [],
   "source": [
    "#주구매상품분류\n",
    "f = data.groupby('custid')['part_pc'].agg([\n",
    "    ('main_part_pc', lambda x: x.mode()[0])\n",
    "]).reset_index()"
   ]
  },
  {
   "cell_type": "code",
   "execution_count": 405,
   "metadata": {},
   "outputs": [],
   "source": [
    "features = features.merge(f, how='left')\n",
    "features = pd.get_dummies(features, 'main_part_pc')"
   ]
  },
  {
   "cell_type": "code",
   "execution_count": 406,
   "metadata": {},
   "outputs": [],
   "source": [
    "f_p = data[data.tot_amt>0].groupby('part_pc')['tot_amt'].agg([\n",
    "    ('main_part_pc_price', 'mean')\n",
    "]).reset_index()"
   ]
  },
  {
   "cell_type": "code",
   "execution_count": 407,
   "metadata": {},
   "outputs": [],
   "source": [
    "f = pd.merge(f, f_p,  left_on = 'main_part_pc',right_on='part_pc',how='left')"
   ]
  },
  {
   "cell_type": "code",
   "execution_count": 408,
   "metadata": {},
   "outputs": [],
   "source": [
    "features = pd.merge(features, f[['custid','main_part_pc_price']],  left_on = 'custid',right_on='custid',how='left')"
   ]
  },
  {
   "cell_type": "code",
   "execution_count": 409,
   "metadata": {},
   "outputs": [],
   "source": [
    "part_count=data[data.tot_amt>0].groupby(['custid','part_pc'])['part_pc'].count().unstack().fillna(0)\n",
    "\n",
    "part_count.columns = ['part_pc_size_'+ str(column) for column in part_count.columns]\n",
    "part_count = part_count.reset_index()\n",
    "\n",
    "features = pd.merge(features, part_count, how='left',on = 'custid')"
   ]
  },
  {
   "cell_type": "code",
   "execution_count": null,
   "metadata": {},
   "outputs": [],
   "source": []
  },
  {
   "cell_type": "code",
   "execution_count": null,
   "metadata": {},
   "outputs": [],
   "source": []
  },
  {
   "cell_type": "code",
   "execution_count": 410,
   "metadata": {},
   "outputs": [],
   "source": [
    "features1=features.copy()"
   ]
  },
  {
   "cell_type": "code",
   "execution_count": 411,
   "metadata": {},
   "outputs": [],
   "source": [
    "i_max=[]\n",
    "for i in list(features.columns):\n",
    "    if features[i].max()>50000:\n",
    "        i_max.append(i)"
   ]
  },
  {
   "cell_type": "code",
   "execution_count": 412,
   "metadata": {},
   "outputs": [],
   "source": [
    "i_max_min=[]\n",
    "for i in i_max:\n",
    "    if features[i].min()>0:\n",
    "        i_max_min.append(i)"
   ]
  },
  {
   "cell_type": "code",
   "execution_count": 413,
   "metadata": {},
   "outputs": [],
   "source": [
    "features[i_max_min]=np.log1p(features[i_max_min])"
   ]
  },
  {
   "cell_type": "code",
   "execution_count": null,
   "metadata": {},
   "outputs": [],
   "source": []
  },
  {
   "cell_type": "code",
   "execution_count": 414,
   "metadata": {},
   "outputs": [],
   "source": [
    "# 데이터 분할\n",
    "X_train = pd.DataFrame({'custid':trn['custid'].unique()})\n",
    "X_train = pd.merge(X_train, features, how='left',on='custid')\n",
    "\n",
    "y_train = y['age']\n",
    "\n",
    "X_test = pd.DataFrame({'custid':tst['custid'].unique()})\n",
    "X_test = pd.merge(X_test, features, how='left',on='custid')"
   ]
  },
  {
   "cell_type": "code",
   "execution_count": 415,
   "metadata": {},
   "outputs": [],
   "source": [
    "X_train.drop('custid',axis=1,inplace=True)\n",
    "X_test.drop('custid',axis=1,inplace=True)"
   ]
  },
  {
   "cell_type": "code",
   "execution_count": 416,
   "metadata": {
    "scrolled": false
   },
   "outputs": [
    {
     "data": {
      "text/plain": [
       "((21587, 757), (14380, 757), (21587,))"
      ]
     },
     "execution_count": 416,
     "metadata": {},
     "output_type": "execute_result"
    }
   ],
   "source": [
    "X_train.shape, X_test.shape, y_train.shape"
   ]
  },
  {
   "cell_type": "code",
   "execution_count": 417,
   "metadata": {},
   "outputs": [],
   "source": [
    "X_columns=X_train.columns"
   ]
  },
  {
   "cell_type": "code",
   "execution_count": null,
   "metadata": {},
   "outputs": [],
   "source": []
  },
  {
   "cell_type": "code",
   "execution_count": 418,
   "metadata": {},
   "outputs": [],
   "source": [
    "from sklearn.preprocessing import StandardScaler\n",
    "scaler = StandardScaler()\n",
    "\n",
    "X_train_scaled = scaler.fit_transform(X_train)\n",
    "X_test_scaled = scaler.transform(X_test)"
   ]
  },
  {
   "cell_type": "code",
   "execution_count": 419,
   "metadata": {},
   "outputs": [],
   "source": [
    "X_train_scaled=pd.DataFrame(X_train_scaled,columns=X_columns)\n",
    "X_test_scaled=pd.DataFrame(X_test_scaled,columns=X_columns)"
   ]
  },
  {
   "cell_type": "code",
   "execution_count": null,
   "metadata": {},
   "outputs": [],
   "source": []
  },
  {
   "cell_type": "code",
   "execution_count": 421,
   "metadata": {
    "scrolled": true
   },
   "outputs": [
    {
     "data": {
      "text/plain": [
       "((21587, 757), (14380, 757), (21587,))"
      ]
     },
     "execution_count": 421,
     "metadata": {},
     "output_type": "execute_result"
    }
   ],
   "source": [
    "X_train_scaled.shape, X_test_scaled.shape, y_train.shape"
   ]
  },
  {
   "cell_type": "code",
   "execution_count": null,
   "metadata": {},
   "outputs": [],
   "source": [
    "X_train_nothuman=X_train_scaled.copy()"
   ]
  },
  {
   "cell_type": "code",
   "execution_count": null,
   "metadata": {},
   "outputs": [],
   "source": [
    "X_test_nothuman=X_test_scaled.copy()"
   ]
  },
  {
   "cell_type": "code",
   "execution_count": 423,
   "metadata": {},
   "outputs": [],
   "source": [
    "X_train_scaled.to_csv('2등피쳐_W2V빼고.csv')\n",
    "X_test_scaled.to_csv('2등피쳐_W2V빼고_test.csv')"
   ]
  },
  {
   "cell_type": "code",
   "execution_count": null,
   "metadata": {},
   "outputs": [],
   "source": []
  }
 ],
 "metadata": {
  "kernelspec": {
   "display_name": "Python 3",
   "language": "python",
   "name": "python3"
  },
  "language_info": {
   "codemirror_mode": {
    "name": "ipython",
    "version": 3
   },
   "file_extension": ".py",
   "mimetype": "text/x-python",
   "name": "python",
   "nbconvert_exporter": "python",
   "pygments_lexer": "ipython3",
   "version": "3.8.5"
  }
 },
 "nbformat": 4,
 "nbformat_minor": 4
}
