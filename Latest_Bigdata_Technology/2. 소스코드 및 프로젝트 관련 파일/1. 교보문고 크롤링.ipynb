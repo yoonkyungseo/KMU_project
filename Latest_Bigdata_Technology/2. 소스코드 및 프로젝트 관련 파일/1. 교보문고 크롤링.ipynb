{
 "cells": [
  {
   "cell_type": "markdown",
   "id": "eec77a65",
   "metadata": {},
   "source": [
    "## 1. Import"
   ]
  },
  {
   "cell_type": "code",
   "execution_count": 1,
   "id": "12d6326d",
   "metadata": {},
   "outputs": [],
   "source": [
    "import sys\n",
    "import gc\n",
    "import os\n",
    "import re\n",
    "import time\n",
    "import warnings\n",
    "warnings.filterwarnings('ignore')\n",
    "\n",
    "import pandas as pd\n",
    "import numpy as np\n",
    "from tqdm import tqdm_notebook\n",
    "# import chromedriver_autoinstaller\n",
    "\n",
    "from matplotlib import font_manager, rc\n",
    "# 차트에서 한글 출력을 위한 설정\n",
    "\n",
    "import matplotlib.pyplot as plt\n",
    "import platform\n",
    "your_os = platform.system()\n",
    "if your_os == 'Linux':\n",
    "    rc('font', family='NanumGothic')\n",
    "elif your_os == 'Windows':\n",
    "    ttf = \"c:/Windows/Fonts/malgun.ttf\"\n",
    "    font_name = font_manager.FontProperties(fname=ttf).get_name()\n",
    "    \n",
    "    rc('font', family=font_name)\n",
    "elif your_os == 'Darwin':\n",
    "    rc('font', family='AppleGothic')\n",
    "rc('axes', unicode_minus=False)"
   ]
  },
  {
   "cell_type": "code",
   "execution_count": 2,
   "id": "487378a5",
   "metadata": {},
   "outputs": [],
   "source": [
    "from selenium import webdriver\n",
    "from selenium.webdriver.common.keys import Keys\n",
    "from selenium.webdriver.support.ui import WebDriverWait\n",
    "from selenium.webdriver.support import expected_conditions as EC\n",
    "from selenium.webdriver.common. by import By\n",
    "\n",
    "from bs4 import BeautifulSoup \n",
    "\n",
    "from sklearn.feature_extraction.text import CountVectorizer\n",
    "from sklearn.feature_extraction.text import TfidfVectorizer\n",
    "\n",
    "import konlpy\n",
    "from konlpy.tag import Okt\n",
    "from konlp.kma.klt2023 import klt2023\n",
    "import nltk\n",
    "import stanza\n",
    "from gensim.models import Word2Vec, word2vec\n",
    "from gensim.models import FastText\n",
    "\n",
    "from wordcloud import WordCloud\n",
    "from numpy import dot\n",
    "from numpy.linalg import norm\n",
    "import itertools"
   ]
  },
  {
   "cell_type": "markdown",
   "id": "1d89cc00",
   "metadata": {},
   "source": [
    "## 2. Set Driver"
   ]
  },
  {
   "cell_type": "code",
   "execution_count": 131,
   "id": "eefe6c71",
   "metadata": {
    "scrolled": true
   },
   "outputs": [
    {
     "data": {
      "text/plain": [
       "0"
      ]
     },
     "execution_count": 131,
     "metadata": {},
     "output_type": "execute_result"
    }
   ],
   "source": [
    "gc.collect()"
   ]
  },
  {
   "cell_type": "code",
   "execution_count": 132,
   "id": "7cd9247e",
   "metadata": {},
   "outputs": [],
   "source": [
    "chrome_options = webdriver.ChromeOptions()"
   ]
  },
  {
   "cell_type": "code",
   "execution_count": 133,
   "id": "4a64fff6",
   "metadata": {},
   "outputs": [],
   "source": [
    "chrome_driver = './chromedriver.exe'\n",
    "driver = webdriver.Chrome(chrome_driver)"
   ]
  },
  {
   "cell_type": "code",
   "execution_count": 134,
   "id": "7fe9852f",
   "metadata": {},
   "outputs": [],
   "source": [
    "driver.get(\"http://www.kyobobook.co.kr/\")\n",
    "time.sleep(3)"
   ]
  },
  {
   "cell_type": "code",
   "execution_count": 135,
   "id": "1905ed09",
   "metadata": {},
   "outputs": [],
   "source": [
    "# 로그인\n",
    "driver.find_element(\"link text\", \"로그인\").click()\n",
    "time.sleep(2)\n",
    "\n",
    "## 본인 실제 교보문고 아이디, 비밀번호를 입력\n",
    "ID = 'qwapol13'\n",
    "PW = 'ogw!9517'\n",
    "\n",
    "driver.find_element(By.XPATH, '//*[@id=\"mainDiv\"]/main/section/div[1]/div[1]/div[1]/div/input').send_keys(ID)\n",
    "time.sleep(2)\n",
    "driver.find_element(By.XPATH, '//*[@id=\"mainDiv\"]/main/section/div[1]/div[1]/div[2]/div/input').send_keys(PW)\n",
    "time.sleep(2)\n",
    "\n",
    "driver.find_element(By.XPATH, '//*[@id=\"mainDiv\"]/main/section/div[1]/div[3]/button/span').click()\n",
    "time.sleep(2)"
   ]
  },
  {
   "cell_type": "code",
   "execution_count": 136,
   "id": "1393f762",
   "metadata": {},
   "outputs": [],
   "source": [
    "# 목차 클릭\n",
    "driver.find_element(By.XPATH, '//*[@id=\"welcome_header_wrap\"]/div[3]/nav/div[1]/button').click()\n",
    "time.sleep(3)\n",
    "\n",
    "# 연간 베스트 확인하기 위해 이동\n",
    "driver.find_element(\"link text\", \"국내도서 전체\").click() \n",
    "time.sleep(3)"
   ]
  },
  {
   "cell_type": "code",
   "execution_count": 9,
   "id": "0ed13a58",
   "metadata": {},
   "outputs": [],
   "source": [
    "# 크롤링 결과값을 담을 list 생성\n",
    "title_list = []\n",
    "artist_list = []\n",
    "ex_list= []\n",
    "category_list = []"
   ]
  },
  {
   "cell_type": "markdown",
   "id": "ed7deb42",
   "metadata": {},
   "source": [
    "## 3. Crawling"
   ]
  },
  {
   "cell_type": "markdown",
   "id": "7f0e1e50",
   "metadata": {},
   "source": [
    "제목, 저자, 설명, 카테고리, 베스트셀러 선정 기간 크롤링"
   ]
  },
  {
   "cell_type": "code",
   "execution_count": 122,
   "id": "6600fb3c",
   "metadata": {
    "collapsed": true
   },
   "outputs": [
    {
     "data": {
      "application/vnd.jupyter.widget-view+json": {
       "model_id": "7cc4050f7dda4121a1322e9555310252",
       "version_major": 2,
       "version_minor": 0
      },
      "text/plain": [
       "  0%|          | 0/2 [00:00<?, ?it/s]"
      ]
     },
     "metadata": {},
     "output_type": "display_data"
    },
    {
     "name": "stdout",
     "output_type": "stream",
     "text": [
      "잡지\n"
     ]
    },
    {
     "data": {
      "application/vnd.jupyter.widget-view+json": {
       "model_id": "c5c6edf7914f4eb0ac40185ec347131b",
       "version_major": 2,
       "version_minor": 0
      },
      "text/plain": [
       "  0%|          | 0/12 [00:00<?, ?it/s]"
      ]
     },
     "metadata": {},
     "output_type": "display_data"
    },
    {
     "name": "stdout",
     "output_type": "stream",
     "text": [
      "1 page 완료!\n",
      "2 page 완료!\n",
      "3 page 완료!\n",
      "4 page 완료!\n",
      "5 page 완료!\n",
      "6 page 완료!\n",
      "7 page 완료!\n",
      "8 page 완료!\n",
      "9 page 완료!\n",
      "10 page 완료!\n",
      "11 page 완료!\n",
      "12 page 완료!\n",
      "4560 4560 4560 4560\n",
      "청소년\n"
     ]
    },
    {
     "data": {
      "application/vnd.jupyter.widget-view+json": {
       "model_id": "2437693fb3914683ad7fc68e8e6976a5",
       "version_major": 2,
       "version_minor": 0
      },
      "text/plain": [
       "  0%|          | 0/12 [00:00<?, ?it/s]"
      ]
     },
     "metadata": {},
     "output_type": "display_data"
    },
    {
     "name": "stdout",
     "output_type": "stream",
     "text": [
      "1 page 완료!\n"
     ]
    },
    {
     "name": "stderr",
     "output_type": "stream",
     "text": [
      "\n",
      "KeyboardInterrupt\n",
      "\n"
     ]
    }
   ],
   "source": [
    "for k in tqdm_notebook(range(21,23)):\n",
    "    \n",
    "    if (k==14) or (k==18):\n",
    "        pass\n",
    "    else:\n",
    "        #카테고리 클릭\n",
    "        cate = driver.find_element(By.XPATH, f'//*[@id=\"contents\"]/div/aside/div[2]/div[1]/ul/li[{k}]/a')\n",
    "        category = cate.text\n",
    "        print(category)\n",
    "        cate.click() \n",
    "        time.sleep(1)\n",
    "        \n",
    "        driver.find_element(\"link text\", \"베스트셀러\").click() \n",
    "        time.sleep(5)\n",
    "\n",
    "        \n",
    "        for j in tqdm_notebook(range(1,13)):\n",
    "            for i in range(1, 21):\n",
    "                \n",
    "                # 책 클릭\n",
    "                try:\n",
    "                    link = driver.find_element(By.XPATH, f'//*[@id=\"homeTabBest\"]/div[3]/ol/li[{i}]/div[2]/div[2]/a')\n",
    "                    link.send_keys(Keys.CONTROL +\"\\n\") \n",
    "                    driver.switch_to.window(driver.window_handles[-1])\n",
    "                except:\n",
    "                    driver.find_element(By.XPATH, f'//*[@id=\"//*[@id=\"allTopPagi\"]/div/a[{j-6}]').click()\n",
    "                    time.sleep(5)\n",
    "                    link = driver.find_element(By.XPATH, f'//*[@id=\"homeTabBest\"]/div[3]/ol/li[{i}]/div[2]/div[2]/a')\n",
    "                    link.send_keys(Keys.CONTROL +\"\\n\") \n",
    "                    driver.switch_to.window(driver.window_handles[-1])\n",
    "                    \n",
    "                # 책 제목\n",
    "                try:\n",
    "                    title = driver.find_element(By.XPATH, '//*[@id=\"contents\"]/div[1]/div/div[1]/div/div[1]/div[1]/div/h1/span')\n",
    "                    title_list.append(title.text)\n",
    "                except:\n",
    "                    time.sleep(100+i)\n",
    "                    driver.close()\n",
    "                    driver.switch_to.window(driver.window_handles[-1])\n",
    "                    time.sleep(3)\n",
    "                    \n",
    "                    link = driver.find_element(By.XPATH, f'//*[@id=\"homeTabBest\"]/div[3]/ol/li[{i}]/div[2]/div[2]/a')\n",
    "                    link.send_keys(Keys.CONTROL +\"\\n\") \n",
    "                    driver.switch_to.window(driver.window_handles[-1])\n",
    "                    \n",
    "                    title = driver.find_element(By.XPATH, '//*[@id=\"contents\"]/div[1]/div/div[1]/div/div[1]/div[1]/div/h1/span')\n",
    "                    title_list.append(title.text)\n",
    "\n",
    "                # 저자\n",
    "                artist = driver.find_element(By.CSS_SELECTOR, 'div.prod_author_box.auto_overflow_wrap > div.auto_overflow_contents > div > div.author > a')\n",
    "                artist_list.append(artist.text)\n",
    "\n",
    "                # 설명\n",
    "                try:\n",
    "                    explain = driver.find_element(By.CSS_SELECTOR, '#scrollSpyProdInfo > div.product_detail_area.book_intro > div.intro_bottom > div:nth-child(2)') \n",
    "                    ex_list.append(explain.text)\n",
    "                except:\n",
    "                    try:\n",
    "                        explain = driver.find_element(By.CSS_SELECTOR, '#scrollSpyProdInfo > div.product_detail_area.book_intro > div.intro_bottom > div:nth-child(1)')\n",
    "                        ex_list.append(explain.text)\n",
    "                    except:\n",
    "                        try:\n",
    "                            explain = driver.find_element(By.CSS_SELECTOR, '#scrollSpyProdInfo > div.product_detail_area.book_intro > div.intro_bottom > div')\n",
    "                            ex_list.append(explain.text)\n",
    "                        except:\n",
    "                            ex_list.append(title.text)\n",
    "\n",
    "                # 카테고리 \n",
    "                category_list.append(category)\n",
    "\n",
    "                driver.close()\n",
    "                driver.switch_to.window(driver.window_handles[-1])\n",
    "                time.sleep(2)\n",
    "\n",
    "            # 다음 페이지 클릭\n",
    "            if j==7:\n",
    "                print(j,'page 완료!')\n",
    "                driver.find_element(By.XPATH, '//*[@id=\"bestBottomPagi\"]/button[2]').click()\n",
    "                time.sleep(4)\n",
    "            elif j>7:\n",
    "                if j==13:\n",
    "                    print(j,'page 완료!')\n",
    "                    pass\n",
    "                else:\n",
    "                    print(j,'page 완료!')\n",
    "                    num = j-5\n",
    "                    driver.find_element(By.XPATH, f'//*[@id=\"bestBottomPagi\"]/div/a[{num}]').click()\n",
    "                    time.sleep(5)\n",
    "                        \n",
    "            else:\n",
    "                print(j,'page 완료!')\n",
    "                driver.find_element(By.XPATH, f'//*[@id=\"bestBottomPagi\"]/div/a[{j+1}]').click()\n",
    "                time.sleep(5)\n",
    "\n",
    "        print(len(title_list), len(artist_list), len(ex_list), len(category_list))\n",
    "        driver.find_element(\"link text\", \"국내도서\").click() \n",
    "        time.sleep(5)\n",
    "    \n",
    "driver.close()"
   ]
  },
  {
   "cell_type": "code",
   "execution_count": 148,
   "id": "deb92ab1",
   "metadata": {},
   "outputs": [
    {
     "name": "stdout",
     "output_type": "stream",
     "text": [
      "4800 4800 4800 4800\n"
     ]
    }
   ],
   "source": [
    "print(len(title_list), len(artist_list), len(ex_list), len(category_list))\n",
    "df = pd.DataFrame({'제목':title_list, '저자': artist_list, '책소개' : ex_list, '카테고리' : category_list})\n",
    "df.to_csv(\"book_all.csv\",index=False, encoding=\"utf-8-sig\")"
   ]
  }
 ],
 "metadata": {
  "kernelspec": {
   "display_name": "Python 3 (ipykernel)",
   "language": "python",
   "name": "python3"
  },
  "language_info": {
   "codemirror_mode": {
    "name": "ipython",
    "version": 3
   },
   "file_extension": ".py",
   "mimetype": "text/x-python",
   "name": "python",
   "nbconvert_exporter": "python",
   "pygments_lexer": "ipython3",
   "version": "3.9.12"
  }
 },
 "nbformat": 4,
 "nbformat_minor": 5
}
